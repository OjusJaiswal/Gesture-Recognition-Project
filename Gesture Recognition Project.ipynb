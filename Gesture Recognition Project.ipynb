{
 "cells": [
  {
   "cell_type": "markdown",
   "metadata": {},
   "source": [
    "# Gesture Recognition\n",
    "In this group project, you are going to build a 3D Conv model that will be able to predict the 5 gestures correctly. Please import the following libraries to get started. Once you have completed the code you can download the notebook for making a submission."
   ]
  },
  {
   "cell_type": "code",
   "execution_count": 1,
   "metadata": {},
   "outputs": [],
   "source": [
    "import numpy as np\n",
    "import os\n",
    "from imageio import imread\n",
    "from skimage.transform import resize\n",
    "import datetime\n",
    "\n",
    "import matplotlib.pyplot as plt\n",
    "%matplotlib inline\n",
    "import warnings\n",
    "warnings.filterwarnings(\"ignore\")"
   ]
  },
  {
   "cell_type": "markdown",
   "metadata": {},
   "source": [
    "We set the random seed so that the results don't vary drastically."
   ]
  },
  {
   "cell_type": "code",
   "execution_count": 2,
   "metadata": {},
   "outputs": [],
   "source": [
    "np.random.seed(30)\n",
    "import random as rn\n",
    "rn.seed(30)\n",
    "from tensorflow import keras\n",
    "import tensorflow as tf\n",
    "tf.random.set_seed(30)"
   ]
  },
  {
   "cell_type": "markdown",
   "metadata": {},
   "source": [
    "In this block, you read the folder names for training and validation. You also set the `batch_size` here. Note that you set the batch size in such a way that you are able to use the GPU in full capacity. You keep increasing the batch size until the machine throws an error."
   ]
  },
  {
   "cell_type": "markdown",
   "metadata": {},
   "source": [
    "**data path: /home/datasets/Project_data**"
   ]
  },
  {
   "cell_type": "code",
   "execution_count": 3,
   "metadata": {},
   "outputs": [],
   "source": [
    "# train and validatiaon data creator with ablation\n",
    "# when ablation is 10, then 10 folders for each label will be selected.\n",
    "def get_data(path, ablation=None):\n",
    "    train_doc = np.random.permutation(open(path+'train.csv').readlines())\n",
    "    val_doc = np.random.permutation(open(path+'val.csv').readlines())\n",
    "    counts = np.zeros(5) # count for loading folders for 5 classes\n",
    "    train_data = []\n",
    "    val_data = []\n",
    "    # when ablation is None pass full training and val data\n",
    "    if ablation is not None:\n",
    "        # iterating train doc\n",
    "        for doc in train_doc:\n",
    "            lable = int(doc.strip().split(';')[2])\n",
    "            if counts[lable] < ablation:\n",
    "                train_data.append(doc)\n",
    "                counts[lable] += 1 \n",
    "        counts = np.zeros(5)\n",
    "        # iterating val doc\n",
    "        for doc in val_doc:\n",
    "            lable = int(doc.strip().split(';')[2])\n",
    "            if counts[lable] < ablation:\n",
    "                val_data.append(doc)\n",
    "                counts[lable] += 1\n",
    "    else:\n",
    "        train_data, val_data = train_doc, val_doc\n",
    "    return train_data, val_data"
   ]
  },
  {
   "cell_type": "code",
   "execution_count": 4,
   "metadata": {},
   "outputs": [],
   "source": [
    "train_doc, val_doc = get_data('/home/datasets/Project_data/', ablation=None)\n",
    "batch_size = 32 # experiment with the batch size\n",
    "enable_augmentation = False # augmentation of Data\n",
    "# sequence ids\n",
    "# selecting alternate frames from 7 to 26.\n",
    "seq_idx = range(7,26,2)\n",
    "# image dimensions\n",
    "dim_x, dim_y = 120, 120"
   ]
  },
  {
   "cell_type": "markdown",
   "metadata": {},
   "source": [
    "## Generator\n",
    "This is one of the most important part of the code. The overall structure of the generator has been given. In the generator, you are going to preprocess the images as you have images of 2 different dimensions as well as create a batch of video frames. You have to experiment with `img_idx`, `y`,`z` and normalization such that you get high accuracy."
   ]
  },
  {
   "cell_type": "code",
   "execution_count": 5,
   "metadata": {},
   "outputs": [],
   "source": [
    "# generator with augmentation for train data\n",
    "def generator(source_path, folder_list, batch_size, is_train = False, augmention = False, debug=False):\n",
    "    # print('\\nSource path = ', source_path, '; batch size =', batch_size)\n",
    "    img_idx = seq_idx #create a list of image numbers you want to use for a particular video\n",
    "    x = len(img_idx)\n",
    "    y, z = dim_x, dim_y\n",
    "    while True:\n",
    "        # doubling the data for augmentation\n",
    "        if is_train and augmention:\n",
    "            t = np.concatenate((np.random.permutation(folder_list), np.random.permutation(folder_list)))\n",
    "        else:\n",
    "            t = np.random.permutation(folder_list)\n",
    "            \n",
    "        if (len(t)%batch_size) == 0:\n",
    "            num_batches = int(len(t)/batch_size)\n",
    "        else:\n",
    "            num_batches = len(t)//batch_size + 1\n",
    "            \n",
    "        for batch in range(num_batches): # we iterate over the number of batches\n",
    "            batch_data = np.zeros((batch_size,x,y,z,3)) # x is the number of images you use for each video, (y,z) is the final size of the input images and 3 is the number of channels RGB\n",
    "            batch_labels = np.zeros((batch_size,5)) # batch_labels is the one hot representation of the output\n",
    "            for folder in range(batch_size): # iterate over the batch_size\n",
    "                if debug:\n",
    "                    plt.figure(figsize=(20,5))\n",
    "                #handling remaining datapoints\n",
    "                folder_idx = folder + (batch*batch_size)\n",
    "                if folder_idx >= len(t):\n",
    "                    break\n",
    "                folder_str = t[folder_idx]\n",
    "                imgs = os.listdir(source_path+'/'+ folder_str.split(';')[0]) # read all the images in the folder\n",
    "                # randomly enabling augmentation and augmentation type\n",
    "                aug_type = None\n",
    "                if is_train and augmention and rn.randint(0,1) == 1:\n",
    "                    aug_type = rn.randint(0, 4) #randomly selecting augmentation type\n",
    "                for idx,item in enumerate(img_idx): #  Iterate iver the frames/images of a folder to read them in\n",
    "                    image = imread(source_path+'/'+ folder_str.strip().split(';')[0]+'/'+imgs[item]).astype(np.float32)\n",
    "\n",
    "                    # plotting original images for debugging purpose only\n",
    "                    if debug:\n",
    "                        plt.subplot(2, x, idx+1)\n",
    "                        plt.imshow(image.astype('uint8'))\n",
    "\n",
    "                    #crop the images and resize them. Note that the images are of 2 different shape \n",
    "                    #and the conv3D will throw error if the inputs in a batch have different shapes\n",
    "                    # making the rectangle images into square by cropping sides\n",
    "                    # so the aspect ration can be mantained while resizing.\n",
    "                    if image.shape[1] > image.shape[0]:\n",
    "                        diff_px = image.shape[1] - image.shape[0]\n",
    "                        crop_start = diff_px//2\n",
    "                        crop_end = crop_start + image.shape[0]\n",
    "                        image = image[:, crop_start:crop_end]\n",
    "                    elif image.shape[0] > image.shape[1]:\n",
    "                        diff_px = image.shape[0] - image.shape[1]\n",
    "                        crop_start = diff_px//2\n",
    "                        crop_end = crop_start + image.shape[1]\n",
    "                        image = image[:, crop_start:crop_end]\n",
    "\n",
    "                    resized_im = resize(image, (y,z))\n",
    "\n",
    "                    if aug_type is not None:\n",
    "                        if aug_type == 0: # edge Enhancement\n",
    "                            resized_im = np.array(Image.fromarray(resized_im, 'RGB').filter(ImageFilter.EDGE_ENHANCE))\n",
    "                        elif aug_type == 1: # adding gaussian blur\n",
    "                            resized_im = np.array(Image.fromarray(resized_im, 'RGB').filter(ImageFilter.GaussianBlur(1)))\n",
    "                        elif aug_type == 2: # enchancing image detailing\n",
    "                            resized_im = np.array(Image.fromarray(resized_im, 'RGB').filter(ImageFilter.DETAIL))\n",
    "                        elif aug_type == 3: # sharpening image\n",
    "                            resized_im = np.array(Image.fromarray(resized_im, 'RGB').filter(ImageFilter.SHARPEN))\n",
    "                        elif aug_type == 4: # Brightness enhancement\n",
    "                            resized_im = np.array(ImageEnhance.Brightness((Image.fromarray(resized_im, 'RGB'))).enhance(1.5))\n",
    "                    # plotting rezised images for debugging purpose only\n",
    "                    if debug:\n",
    "                        plt.subplot(2, x, idx+x+1)\n",
    "                        plt.imshow(resized_im)\n",
    "\n",
    "                    batch_data[folder,idx,:,:,0] = resized_im[:,:,0]/255 #normalise and feed in the image\n",
    "                    batch_data[folder,idx,:,:,1] = resized_im[:,:,1]/255 #normalise and feed in the image\n",
    "                    batch_data[folder,idx,:,:,2] = resized_im[:,:,2]/255 #normalise and feed in the image\n",
    "\n",
    "                batch_labels[folder, int(folder_str.strip().split(';')[2])] = 1\n",
    "            yield batch_data, batch_labels #you yield the batch_data and the batch_labels, remember what does yield do"
   ]
  },
  {
   "cell_type": "markdown",
   "metadata": {},
   "source": [
    "Note here that a video is represented above in the generator as (number of images, height, width, number of channels). Take this into consideration while creating the model architecture."
   ]
  },
  {
   "cell_type": "code",
   "execution_count": 6,
   "metadata": {},
   "outputs": [
    {
     "name": "stdout",
     "output_type": "stream",
     "text": [
      "# training sequences = 663\n",
      "# validation sequences = 100\n",
      "# epochs = 25\n"
     ]
    }
   ],
   "source": [
    "curr_dt_time = datetime.datetime.now()\n",
    "train_path = '/home/datasets/Project_data/train'\n",
    "val_path = '/home/datasets/Project_data/val'\n",
    "num_train_sequences = len(train_doc)\n",
    "print('# training sequences =', num_train_sequences)\n",
    "num_val_sequences = len(val_doc)\n",
    "print('# validation sequences =', num_val_sequences)\n",
    "num_epochs = 25 # choose the number of epochs\n",
    "print ('# epochs =', num_epochs)"
   ]
  },
  {
   "cell_type": "markdown",
   "metadata": {},
   "source": [
    "## Model\n",
    "Here you make the model using different functionalities that Keras provides. Remember to use `Conv3D` and `MaxPooling3D` and not `Conv2D` and `Maxpooling2D` for a 3D convolution model. You would want to use `TimeDistributed` while building a Conv2D + RNN model. Also remember that the last layer is the softmax. Design the network in such a way that the model is able to give good accuracy on the least number of parameters so that it can fit in the memory of the webcam."
   ]
  },
  {
   "cell_type": "code",
   "execution_count": 7,
   "metadata": {},
   "outputs": [],
   "source": [
    "from keras.models import Sequential, Model\n",
    "from keras.layers import Dense, GRU, Flatten, TimeDistributed, Bidirectional, BatchNormalization, Activation, Dropout, GlobalAveragePooling2D, GlobalAveragePooling3D, ConvLSTM2D\n",
    "from keras.layers.convolutional import Conv2D, Conv3D, MaxPooling2D, MaxPooling3D\n",
    "from keras.callbacks import ModelCheckpoint, ReduceLROnPlateau\n",
    "from tensorflow.keras import optimizers\n",
    "\n",
    "#input shape for the st layer\n",
    "input_shape = (len(seq_idx), dim_x, dim_y, 3)\n",
    "np.random.seed(30)"
   ]
  },
  {
   "cell_type": "markdown",
   "metadata": {},
   "source": [
    "### Model 1 : Conv3D"
   ]
  },
  {
   "cell_type": "code",
   "execution_count": 8,
   "metadata": {},
   "outputs": [
    {
     "name": "stderr",
     "output_type": "stream",
     "text": [
      "2024-11-05 03:40:19.367289: W tensorflow/core/common_runtime/gpu/gpu_bfc_allocator.cc:39] Overriding allow_growth setting because the TF_FORCE_GPU_ALLOW_GROWTH environment variable is set. Original config value was 0.\n",
      "2024-11-05 03:40:19.367352: I tensorflow/core/common_runtime/gpu/gpu_device.cc:1525] Created device /job:localhost/replica:0/task:0/device:GPU:0 with 14800 MB memory:  -> device: 0, name: Quadro RTX 5000, pci bus id: 0000:3f:00.0, compute capability: 7.5\n"
     ]
    }
   ],
   "source": [
    "model1 = Sequential()\n",
    "\n",
    "model1.add(Conv3D(32, kernel_size=3, activation='relu', input_shape=input_shape))\n",
    "model1.add(Conv3D(64, kernel_size=3, activation='relu'))\n",
    "model1.add(MaxPooling3D(pool_size=(2, 2, 2)))\n",
    "model1.add(BatchNormalization())\n",
    "model1.add(Dropout(0.2))\n",
    "\n",
    "model1.add(Conv3D(128, kernel_size=3, activation='relu'))\n",
    "model1.add(MaxPooling3D(pool_size=(1, 2, 2)))\n",
    "model1.add(BatchNormalization())\n",
    "model1.add(Dropout(0.2))\n",
    "\n",
    "model1.add(Conv3D(256, kernel_size=(1, 3, 3), activation='relu'))\n",
    "model1.add(MaxPooling3D(pool_size=(1, 2, 2)))\n",
    "model1.add(BatchNormalization())\n",
    "model1.add(Dropout(0.2))\n",
    "\n",
    "model1.add(GlobalAveragePooling3D())\n",
    "model1.add(Dense(512, activation='relu'))\n",
    "model1.add(BatchNormalization())\n",
    "model1.add(Dense(5, activation='softmax'))"
   ]
  },
  {
   "cell_type": "markdown",
   "metadata": {},
   "source": [
    "Now that you have written the model, the next step is to `compile` the model. When you print the `summary` of the model, you'll see the total number of parameters you have to train."
   ]
  },
  {
   "cell_type": "code",
   "execution_count": 9,
   "metadata": {
    "scrolled": true
   },
   "outputs": [
    {
     "name": "stdout",
     "output_type": "stream",
     "text": [
      "Model: \"sequential\"\n",
      "_________________________________________________________________\n",
      " Layer (type)                Output Shape              Param #   \n",
      "=================================================================\n",
      " conv3d (Conv3D)             (None, 8, 118, 118, 32)   2624      \n",
      "                                                                 \n",
      " conv3d_1 (Conv3D)           (None, 6, 116, 116, 64)   55360     \n",
      "                                                                 \n",
      " max_pooling3d (MaxPooling3D  (None, 3, 58, 58, 64)    0         \n",
      " )                                                               \n",
      "                                                                 \n",
      " batch_normalization (BatchN  (None, 3, 58, 58, 64)    256       \n",
      " ormalization)                                                   \n",
      "                                                                 \n",
      " dropout (Dropout)           (None, 3, 58, 58, 64)     0         \n",
      "                                                                 \n",
      " conv3d_2 (Conv3D)           (None, 1, 56, 56, 128)    221312    \n",
      "                                                                 \n",
      " max_pooling3d_1 (MaxPooling  (None, 1, 28, 28, 128)   0         \n",
      " 3D)                                                             \n",
      "                                                                 \n",
      " batch_normalization_1 (Batc  (None, 1, 28, 28, 128)   512       \n",
      " hNormalization)                                                 \n",
      "                                                                 \n",
      " dropout_1 (Dropout)         (None, 1, 28, 28, 128)    0         \n",
      "                                                                 \n",
      " conv3d_3 (Conv3D)           (None, 1, 26, 26, 256)    295168    \n",
      "                                                                 \n",
      " max_pooling3d_2 (MaxPooling  (None, 1, 13, 13, 256)   0         \n",
      " 3D)                                                             \n",
      "                                                                 \n",
      " batch_normalization_2 (Batc  (None, 1, 13, 13, 256)   1024      \n",
      " hNormalization)                                                 \n",
      "                                                                 \n",
      " dropout_2 (Dropout)         (None, 1, 13, 13, 256)    0         \n",
      "                                                                 \n",
      " global_average_pooling3d (G  (None, 256)              0         \n",
      " lobalAveragePooling3D)                                          \n",
      "                                                                 \n",
      " dense (Dense)               (None, 512)               131584    \n",
      "                                                                 \n",
      " batch_normalization_3 (Batc  (None, 512)              2048      \n",
      " hNormalization)                                                 \n",
      "                                                                 \n",
      " dense_1 (Dense)             (None, 5)                 2565      \n",
      "                                                                 \n",
      "=================================================================\n",
      "Total params: 712,453\n",
      "Trainable params: 710,533\n",
      "Non-trainable params: 1,920\n",
      "_________________________________________________________________\n",
      "None\n"
     ]
    }
   ],
   "source": [
    "optimiser = optimizers.Adam(lr=0.01) #write your optimizer\n",
    "model1.compile(optimizer=optimiser, loss='categorical_crossentropy', metrics=['categorical_accuracy'])\n",
    "print(model1.summary())"
   ]
  },
  {
   "cell_type": "markdown",
   "metadata": {},
   "source": [
    "Let us create the `train_generator` and the `val_generator` which will be used in `.fit_generator`."
   ]
  },
  {
   "cell_type": "code",
   "execution_count": 10,
   "metadata": {},
   "outputs": [],
   "source": [
    "train_generator = generator(train_path, train_doc, batch_size)\n",
    "val_generator = generator(val_path, val_doc, batch_size)"
   ]
  },
  {
   "cell_type": "code",
   "execution_count": 11,
   "metadata": {},
   "outputs": [
    {
     "name": "stdout",
     "output_type": "stream",
     "text": [
      "WARNING:tensorflow:`period` argument is deprecated. Please use `save_freq` to specify the frequency in number of batches seen.\n"
     ]
    }
   ],
   "source": [
    "model_name = 'model_init' + '_' + str(curr_dt_time).replace(' ','').replace(':','_') + '/'\n",
    "    \n",
    "if not os.path.exists(model_name):\n",
    "    os.mkdir(model_name)\n",
    "        \n",
    "filepath = model_name + \"model-{epoch:5d}-{loss:.5f}-{categorical_accuracy:.5f}-{val_loss:.5f}-{val_categorical_accuracy:.5f}.h5\"\n",
    "\n",
    "checkpoint = ModelCheckpoint(filepath, monitor='val_loss', verbose=1, save_best_only=False, save_weights_only=False, mode='auto', period=1)\n",
    "LR = ReduceLROnPlateau(monitor='val_loss', factor=0.2, patience=5, min_lr=0.001, verbose=1) # write the REducelronplateau code here\n",
    "callbacks_list = [checkpoint, LR]"
   ]
  },
  {
   "cell_type": "markdown",
   "metadata": {},
   "source": [
    "The `steps_per_epoch` and `validation_steps` are used by `fit` method to decide the number of next() calls it need to make."
   ]
  },
  {
   "cell_type": "code",
   "execution_count": 12,
   "metadata": {},
   "outputs": [],
   "source": [
    "if (num_train_sequences%batch_size) == 0:\n",
    "    steps_per_epoch = int(num_train_sequences/batch_size)\n",
    "else:\n",
    "    steps_per_epoch = (num_train_sequences//batch_size) + 1\n",
    "\n",
    "if (num_val_sequences%batch_size) == 0:\n",
    "    validation_steps = int(num_val_sequences/batch_size)\n",
    "else:\n",
    "    validation_steps = (num_val_sequences//batch_size) + 1"
   ]
  },
  {
   "cell_type": "markdown",
   "metadata": {},
   "source": [
    "Let us now fit the model. This will start training the model and with the help of the checkpoints, you'll be able to save the model at the end of each epoch."
   ]
  },
  {
   "cell_type": "code",
   "execution_count": 13,
   "metadata": {},
   "outputs": [
    {
     "name": "stdout",
     "output_type": "stream",
     "text": [
      "Epoch 1/25\n"
     ]
    },
    {
     "name": "stderr",
     "output_type": "stream",
     "text": [
      "2024-11-05 03:40:23.692094: I tensorflow/stream_executor/cuda/cuda_dnn.cc:377] Loaded cuDNN version 8302\n"
     ]
    },
    {
     "name": "stdout",
     "output_type": "stream",
     "text": [
      "21/21 [==============================] - ETA: 0s - loss: 2.3771 - categorical_accuracy: 0.3051\n",
      "Epoch 00001: saving model to model_init_2024-11-0503_40_18.603889/model-    1-2.37714-0.30506-526.97290-0.17969.h5\n",
      "21/21 [==============================] - 57s 3s/step - loss: 2.3771 - categorical_accuracy: 0.3051 - val_loss: 526.9729 - val_categorical_accuracy: 0.1797 - lr: 0.0100\n",
      "Epoch 2/25\n",
      "21/21 [==============================] - ETA: 0s - loss: 1.8075 - categorical_accuracy: 0.3318\n",
      "Epoch 00002: saving model to model_init_2024-11-0503_40_18.603889/model-    2-1.80752-0.33185-237.32295-0.19531.h5\n",
      "21/21 [==============================] - 51s 3s/step - loss: 1.8075 - categorical_accuracy: 0.3318 - val_loss: 237.3230 - val_categorical_accuracy: 0.1953 - lr: 0.0100\n",
      "Epoch 3/25\n",
      "21/21 [==============================] - ETA: 0s - loss: 1.5481 - categorical_accuracy: 0.3884\n",
      "Epoch 00003: saving model to model_init_2024-11-0503_40_18.603889/model-    3-1.54809-0.38839-75.18083-0.14844.h5\n",
      "21/21 [==============================] - 50s 2s/step - loss: 1.5481 - categorical_accuracy: 0.3884 - val_loss: 75.1808 - val_categorical_accuracy: 0.1484 - lr: 0.0100\n",
      "Epoch 4/25\n",
      "21/21 [==============================] - ETA: 0s - loss: 1.2603 - categorical_accuracy: 0.4301\n",
      "Epoch 00004: saving model to model_init_2024-11-0503_40_18.603889/model-    4-1.26028-0.43006-43.32677-0.17188.h5\n",
      "21/21 [==============================] - 48s 2s/step - loss: 1.2603 - categorical_accuracy: 0.4301 - val_loss: 43.3268 - val_categorical_accuracy: 0.1719 - lr: 0.0100\n",
      "Epoch 5/25\n",
      "21/21 [==============================] - ETA: 0s - loss: 1.2818 - categorical_accuracy: 0.4420\n",
      "Epoch 00005: saving model to model_init_2024-11-0503_40_18.603889/model-    5-1.28177-0.44196-18.15372-0.18750.h5\n",
      "21/21 [==============================] - 50s 2s/step - loss: 1.2818 - categorical_accuracy: 0.4420 - val_loss: 18.1537 - val_categorical_accuracy: 0.1875 - lr: 0.0100\n",
      "Epoch 6/25\n",
      "21/21 [==============================] - ETA: 0s - loss: 1.1805 - categorical_accuracy: 0.4464\n",
      "Epoch 00006: saving model to model_init_2024-11-0503_40_18.603889/model-    6-1.18045-0.44643-21.27020-0.19531.h5\n",
      "21/21 [==============================] - 51s 3s/step - loss: 1.1805 - categorical_accuracy: 0.4464 - val_loss: 21.2702 - val_categorical_accuracy: 0.1953 - lr: 0.0100\n",
      "Epoch 7/25\n",
      "21/21 [==============================] - ETA: 0s - loss: 1.2841 - categorical_accuracy: 0.4613\n",
      "Epoch 00007: saving model to model_init_2024-11-0503_40_18.603889/model-    7-1.28415-0.46131-15.76917-0.19531.h5\n",
      "21/21 [==============================] - 51s 3s/step - loss: 1.2841 - categorical_accuracy: 0.4613 - val_loss: 15.7692 - val_categorical_accuracy: 0.1953 - lr: 0.0100\n",
      "Epoch 8/25\n",
      "21/21 [==============================] - ETA: 0s - loss: 1.3123 - categorical_accuracy: 0.4568\n",
      "Epoch 00008: saving model to model_init_2024-11-0503_40_18.603889/model-    8-1.31227-0.45685-1.83047-0.49219.h5\n",
      "21/21 [==============================] - 48s 2s/step - loss: 1.3123 - categorical_accuracy: 0.4568 - val_loss: 1.8305 - val_categorical_accuracy: 0.4922 - lr: 0.0100\n",
      "Epoch 9/25\n",
      "21/21 [==============================] - ETA: 0s - loss: 1.2493 - categorical_accuracy: 0.4940\n",
      "Epoch 00009: saving model to model_init_2024-11-0503_40_18.603889/model-    9-1.24933-0.49405-2.15457-0.25000.h5\n",
      "21/21 [==============================] - 51s 3s/step - loss: 1.2493 - categorical_accuracy: 0.4940 - val_loss: 2.1546 - val_categorical_accuracy: 0.2500 - lr: 0.0100\n",
      "Epoch 10/25\n",
      "21/21 [==============================] - ETA: 0s - loss: 1.1582 - categorical_accuracy: 0.5000\n",
      "Epoch 00010: saving model to model_init_2024-11-0503_40_18.603889/model-   10-1.15820-0.50000-4.59332-0.38281.h5\n",
      "21/21 [==============================] - 51s 3s/step - loss: 1.1582 - categorical_accuracy: 0.5000 - val_loss: 4.5933 - val_categorical_accuracy: 0.3828 - lr: 0.0100\n",
      "Epoch 11/25\n",
      "21/21 [==============================] - ETA: 0s - loss: 1.1011 - categorical_accuracy: 0.5074\n",
      "Epoch 00011: saving model to model_init_2024-11-0503_40_18.603889/model-   11-1.10107-0.50744-2.40557-0.18750.h5\n",
      "21/21 [==============================] - 50s 2s/step - loss: 1.1011 - categorical_accuracy: 0.5074 - val_loss: 2.4056 - val_categorical_accuracy: 0.1875 - lr: 0.0100\n",
      "Epoch 12/25\n",
      "21/21 [==============================] - ETA: 0s - loss: 1.1553 - categorical_accuracy: 0.5387\n",
      "Epoch 00012: saving model to model_init_2024-11-0503_40_18.603889/model-   12-1.15527-0.53869-14.29074-0.17188.h5\n",
      "21/21 [==============================] - 48s 2s/step - loss: 1.1553 - categorical_accuracy: 0.5387 - val_loss: 14.2907 - val_categorical_accuracy: 0.1719 - lr: 0.0100\n",
      "Epoch 13/25\n",
      "21/21 [==============================] - ETA: 0s - loss: 1.1279 - categorical_accuracy: 0.5238\n",
      "Epoch 00013: saving model to model_init_2024-11-0503_40_18.603889/model-   13-1.12791-0.52381-3.32657-0.20312.h5\n",
      "\n",
      "Epoch 00013: ReduceLROnPlateau reducing learning rate to 0.0019999999552965165.\n",
      "21/21 [==============================] - 51s 3s/step - loss: 1.1279 - categorical_accuracy: 0.5238 - val_loss: 3.3266 - val_categorical_accuracy: 0.2031 - lr: 0.0100\n",
      "Epoch 14/25\n",
      "21/21 [==============================] - ETA: 0s - loss: 0.8661 - categorical_accuracy: 0.5789\n",
      "Epoch 00014: saving model to model_init_2024-11-0503_40_18.603889/model-   14-0.86606-0.57887-2.87714-0.24219.h5\n",
      "21/21 [==============================] - 50s 2s/step - loss: 0.8661 - categorical_accuracy: 0.5789 - val_loss: 2.8771 - val_categorical_accuracy: 0.2422 - lr: 0.0020\n",
      "Epoch 15/25\n",
      "21/21 [==============================] - ETA: 0s - loss: 0.8915 - categorical_accuracy: 0.6042\n",
      "Epoch 00015: saving model to model_init_2024-11-0503_40_18.603889/model-   15-0.89152-0.60417-1.69130-0.49219.h5\n",
      "21/21 [==============================] - 50s 2s/step - loss: 0.8915 - categorical_accuracy: 0.6042 - val_loss: 1.6913 - val_categorical_accuracy: 0.4922 - lr: 0.0020\n",
      "Epoch 16/25\n",
      "21/21 [==============================] - ETA: 0s - loss: 0.8312 - categorical_accuracy: 0.6310\n",
      "Epoch 00016: saving model to model_init_2024-11-0503_40_18.603889/model-   16-0.83116-0.63095-0.86753-0.64062.h5\n",
      "21/21 [==============================] - 49s 2s/step - loss: 0.8312 - categorical_accuracy: 0.6310 - val_loss: 0.8675 - val_categorical_accuracy: 0.6406 - lr: 0.0020\n",
      "Epoch 17/25\n",
      "21/21 [==============================] - ETA: 0s - loss: 0.8448 - categorical_accuracy: 0.5893\n",
      "Epoch 00017: saving model to model_init_2024-11-0503_40_18.603889/model-   17-0.84481-0.58929-1.31156-0.56250.h5\n",
      "21/21 [==============================] - 51s 3s/step - loss: 0.8448 - categorical_accuracy: 0.5893 - val_loss: 1.3116 - val_categorical_accuracy: 0.5625 - lr: 0.0020\n",
      "Epoch 18/25\n",
      "21/21 [==============================] - ETA: 0s - loss: 0.8187 - categorical_accuracy: 0.6399\n",
      "Epoch 00018: saving model to model_init_2024-11-0503_40_18.603889/model-   18-0.81873-0.63988-0.85108-0.64844.h5\n",
      "21/21 [==============================] - 51s 3s/step - loss: 0.8187 - categorical_accuracy: 0.6399 - val_loss: 0.8511 - val_categorical_accuracy: 0.6484 - lr: 0.0020\n",
      "Epoch 19/25\n",
      "21/21 [==============================] - ETA: 0s - loss: 0.7888 - categorical_accuracy: 0.6414\n",
      "Epoch 00019: saving model to model_init_2024-11-0503_40_18.603889/model-   19-0.78877-0.64137-0.95670-0.52344.h5\n",
      "21/21 [==============================] - 50s 2s/step - loss: 0.7888 - categorical_accuracy: 0.6414 - val_loss: 0.9567 - val_categorical_accuracy: 0.5234 - lr: 0.0020\n",
      "Epoch 20/25\n",
      "21/21 [==============================] - ETA: 0s - loss: 0.7681 - categorical_accuracy: 0.6369\n",
      "Epoch 00020: saving model to model_init_2024-11-0503_40_18.603889/model-   20-0.76805-0.63690-0.86647-0.65625.h5\n",
      "21/21 [==============================] - 49s 2s/step - loss: 0.7681 - categorical_accuracy: 0.6369 - val_loss: 0.8665 - val_categorical_accuracy: 0.6562 - lr: 0.0020\n",
      "Epoch 21/25\n",
      "21/21 [==============================] - ETA: 0s - loss: 0.7904 - categorical_accuracy: 0.6548\n",
      "Epoch 00021: saving model to model_init_2024-11-0503_40_18.603889/model-   21-0.79036-0.65476-1.79023-0.52344.h5\n",
      "21/21 [==============================] - 51s 3s/step - loss: 0.7904 - categorical_accuracy: 0.6548 - val_loss: 1.7902 - val_categorical_accuracy: 0.5234 - lr: 0.0020\n",
      "Epoch 22/25\n",
      "21/21 [==============================] - ETA: 0s - loss: 0.7131 - categorical_accuracy: 0.6935\n",
      "Epoch 00022: saving model to model_init_2024-11-0503_40_18.603889/model-   22-0.71306-0.69345-2.34507-0.46094.h5\n",
      "21/21 [==============================] - 50s 2s/step - loss: 0.7131 - categorical_accuracy: 0.6935 - val_loss: 2.3451 - val_categorical_accuracy: 0.4609 - lr: 0.0020\n",
      "Epoch 23/25\n",
      "21/21 [==============================] - ETA: 0s - loss: 0.6745 - categorical_accuracy: 0.7143\n",
      "Epoch 00023: saving model to model_init_2024-11-0503_40_18.603889/model-   23-0.67451-0.71429-1.90838-0.50000.h5\n",
      "\n",
      "Epoch 00023: ReduceLROnPlateau reducing learning rate to 0.001.\n",
      "21/21 [==============================] - 49s 2s/step - loss: 0.6745 - categorical_accuracy: 0.7143 - val_loss: 1.9084 - val_categorical_accuracy: 0.5000 - lr: 0.0020\n",
      "Epoch 24/25\n",
      "21/21 [==============================] - ETA: 0s - loss: 0.6809 - categorical_accuracy: 0.7128\n",
      "Epoch 00024: saving model to model_init_2024-11-0503_40_18.603889/model-   24-0.68085-0.71280-2.84479-0.44531.h5\n",
      "21/21 [==============================] - 49s 2s/step - loss: 0.6809 - categorical_accuracy: 0.7128 - val_loss: 2.8448 - val_categorical_accuracy: 0.4453 - lr: 0.0010\n",
      "Epoch 25/25\n",
      "21/21 [==============================] - ETA: 0s - loss: 0.7124 - categorical_accuracy: 0.6741\n",
      "Epoch 00025: saving model to model_init_2024-11-0503_40_18.603889/model-   25-0.71238-0.67411-2.23722-0.26562.h5\n",
      "21/21 [==============================] - 50s 3s/step - loss: 0.7124 - categorical_accuracy: 0.6741 - val_loss: 2.2372 - val_categorical_accuracy: 0.2656 - lr: 0.0010\n"
     ]
    }
   ],
   "source": [
    "history = model1.fit(train_generator, steps_per_epoch=steps_per_epoch, epochs=num_epochs, verbose=1, \n",
    "                    callbacks=callbacks_list, validation_data=val_generator, \n",
    "                    validation_steps=validation_steps, class_weight=None, workers=1, initial_epoch=0)"
   ]
  },
  {
   "cell_type": "code",
   "execution_count": 14,
   "metadata": {},
   "outputs": [
    {
     "data": {
      "text/plain": [
       "<matplotlib.legend.Legend at 0x7f1ee88b2e20>"
      ]
     },
     "execution_count": 14,
     "metadata": {},
     "output_type": "execute_result"
    },
    {
     "data": {
      "image/png": "[encoded data removed]",
      "text/plain": [
       "<Figure size 1440x432 with 2 Axes>"
      ]
     },
     "metadata": {
      "needs_background": "light"
     },
     "output_type": "display_data"
    }
   ],
   "source": [
    "plt.figure(figsize=(20,6))\n",
    "ax1 = plt.subplot(121)\n",
    "ax1 = plt.plot(history.history['loss'])\n",
    "ax1 = plt.plot(history.history['val_loss'])\n",
    "plt.title('model loss')\n",
    "plt.ylabel('loss')\n",
    "plt.xlabel('epoch')\n",
    "plt.legend(['train', 'validation'], loc='lower left')\n",
    "ax2 = plt.subplot(122)\n",
    "ax2 = plt.plot(history.history['categorical_accuracy'])\n",
    "ax2 = plt.plot(history.history['val_categorical_accuracy'])\n",
    "plt.title('model accuracy')\n",
    "plt.ylabel('categorical_accuracy')\n",
    "plt.xlabel('epoch')\n",
    "plt.legend(['train', 'validation'], loc='lower left')"
   ]
  },
  {
   "cell_type": "markdown",
   "metadata": {},
   "source": [
    "### Model 2 : TimeDistributed Conv2D + GRU"
   ]
  },
  {
   "cell_type": "code",
   "execution_count": 15,
   "metadata": {},
   "outputs": [],
   "source": [
    "model2 = Sequential()\n",
    "model2.add(TimeDistributed(\n",
    "    Conv2D(32, (3,3), activation='relu'), input_shape=input_shape)\n",
    ")\n",
    "model2.add(TimeDistributed(\n",
    "    MaxPooling2D((2,2)))\n",
    ")\n",
    "model2.add(BatchNormalization())\n",
    "\n",
    "model2.add(TimeDistributed(\n",
    "    Conv2D(64, (3,3), activation='relu'))\n",
    ")\n",
    "model2.add(TimeDistributed(\n",
    "    MaxPooling2D((2,2)))\n",
    ")\n",
    "model2.add(BatchNormalization())\n",
    "\n",
    "model2.add(TimeDistributed(GlobalAveragePooling2D()))\n",
    "model2.add(TimeDistributed(Dense(64, activation='relu')))\n",
    "model2.add(BatchNormalization())\n",
    "\n",
    "model2.add(GRU(128))\n",
    "model2.add(BatchNormalization())\n",
    "model2.add(Dense(5, activation='softmax'))"
   ]
  },
  {
   "cell_type": "code",
   "execution_count": 16,
   "metadata": {},
   "outputs": [
    {
     "name": "stdout",
     "output_type": "stream",
     "text": [
      "Model: \"sequential_1\"\n",
      "_________________________________________________________________\n",
      " Layer (type)                Output Shape              Param #   \n",
      "=================================================================\n",
      " time_distributed (TimeDistr  (None, 10, 118, 118, 32)  896      \n",
      " ibuted)                                                         \n",
      "                                                                 \n",
      " time_distributed_1 (TimeDis  (None, 10, 59, 59, 32)   0         \n",
      " tributed)                                                       \n",
      "                                                                 \n",
      " batch_normalization_4 (Batc  (None, 10, 59, 59, 32)   128       \n",
      " hNormalization)                                                 \n",
      "                                                                 \n",
      " time_distributed_2 (TimeDis  (None, 10, 57, 57, 64)   18496     \n",
      " tributed)                                                       \n",
      "                                                                 \n",
      " time_distributed_3 (TimeDis  (None, 10, 28, 28, 64)   0         \n",
      " tributed)                                                       \n",
      "                                                                 \n",
      " batch_normalization_5 (Batc  (None, 10, 28, 28, 64)   256       \n",
      " hNormalization)                                                 \n",
      "                                                                 \n",
      " time_distributed_4 (TimeDis  (None, 10, 64)           0         \n",
      " tributed)                                                       \n",
      "                                                                 \n",
      " time_distributed_5 (TimeDis  (None, 10, 64)           4160      \n",
      " tributed)                                                       \n",
      "                                                                 \n",
      " batch_normalization_6 (Batc  (None, 10, 64)           256       \n",
      " hNormalization)                                                 \n",
      "                                                                 \n",
      " gru (GRU)                   (None, 128)               74496     \n",
      "                                                                 \n",
      " batch_normalization_7 (Batc  (None, 128)              512       \n",
      " hNormalization)                                                 \n",
      "                                                                 \n",
      " dense_3 (Dense)             (None, 5)                 645       \n",
      "                                                                 \n",
      "=================================================================\n",
      "Total params: 99,845\n",
      "Trainable params: 99,269\n",
      "Non-trainable params: 576\n",
      "_________________________________________________________________\n",
      "None\n"
     ]
    }
   ],
   "source": [
    "optimiser = optimizers.Adam(lr=0.01) #write your optimizer\n",
    "model2.compile(optimizer=optimiser, loss='categorical_crossentropy', metrics=['categorical_accuracy'])\n",
    "print(model2.summary())"
   ]
  },
  {
   "cell_type": "code",
   "execution_count": 17,
   "metadata": {},
   "outputs": [],
   "source": [
    "train_generator = generator(train_path, train_doc, batch_size)\n",
    "val_generator = generator(val_path, val_doc, batch_size)"
   ]
  },
  {
   "cell_type": "code",
   "execution_count": 18,
   "metadata": {},
   "outputs": [
    {
     "name": "stdout",
     "output_type": "stream",
     "text": [
      "WARNING:tensorflow:`period` argument is deprecated. Please use `save_freq` to specify the frequency in number of batches seen.\n"
     ]
    }
   ],
   "source": [
    "model_name = 'model_init' + '_' + str(curr_dt_time).replace(' ','').replace(':','_') + '/'\n",
    "    \n",
    "if not os.path.exists(model_name):\n",
    "    os.mkdir(model_name)\n",
    "        \n",
    "filepath = model_name + \"model-{epoch:5d}-{loss:.5f}-{categorical_accuracy:.5f}-{val_loss:.5f}-{val_categorical_accuracy:.5f}.h5\"\n",
    "\n",
    "checkpoint = ModelCheckpoint(filepath, monitor='val_loss', verbose=1, save_best_only=False, save_weights_only=False, mode='auto', period=1)\n",
    "LR = ReduceLROnPlateau(monitor='val_loss', factor=0.2, patience=5, min_lr=0.001, verbose=1) # write the REducelronplateau code here\n",
    "callbacks_list = [checkpoint, LR]"
   ]
  },
  {
   "cell_type": "code",
   "execution_count": 19,
   "metadata": {},
   "outputs": [],
   "source": [
    "if (num_train_sequences%batch_size) == 0:\n",
    "    steps_per_epoch = int(num_train_sequences/batch_size)\n",
    "else:\n",
    "    steps_per_epoch = (num_train_sequences//batch_size) + 1\n",
    "\n",
    "if (num_val_sequences%batch_size) == 0:\n",
    "    validation_steps = int(num_val_sequences/batch_size)\n",
    "else:\n",
    "    validation_steps = (num_val_sequences//batch_size) + 1"
   ]
  },
  {
   "cell_type": "code",
   "execution_count": 20,
   "metadata": {},
   "outputs": [
    {
     "name": "stdout",
     "output_type": "stream",
     "text": [
      "Epoch 1/25\n",
      "21/21 [==============================] - ETA: 0s - loss: 1.5483 - categorical_accuracy: 0.3854\n",
      "Epoch 00001: saving model to model_init_2024-11-0503_40_18.603889/model-    1-1.54826-0.38542-2.21712-0.17969.h5\n",
      "21/21 [==============================] - 53s 2s/step - loss: 1.5483 - categorical_accuracy: 0.3854 - val_loss: 2.2171 - val_categorical_accuracy: 0.1797 - lr: 0.0100\n",
      "Epoch 2/25\n",
      "21/21 [==============================] - ETA: 0s - loss: 1.0999 - categorical_accuracy: 0.4911\n",
      "Epoch 00002: saving model to model_init_2024-11-0503_40_18.603889/model-    2-1.09991-0.49107-1.54889-0.15625.h5\n",
      "21/21 [==============================] - 50s 2s/step - loss: 1.0999 - categorical_accuracy: 0.4911 - val_loss: 1.5489 - val_categorical_accuracy: 0.1562 - lr: 0.0100\n",
      "Epoch 3/25\n",
      "21/21 [==============================] - ETA: 0s - loss: 1.0343 - categorical_accuracy: 0.5253\n",
      "Epoch 00003: saving model to model_init_2024-11-0503_40_18.603889/model-    3-1.03426-0.52530-1.56269-0.16406.h5\n",
      "21/21 [==============================] - 50s 3s/step - loss: 1.0343 - categorical_accuracy: 0.5253 - val_loss: 1.5627 - val_categorical_accuracy: 0.1641 - lr: 0.0100\n",
      "Epoch 4/25\n",
      "21/21 [==============================] - ETA: 0s - loss: 1.0283 - categorical_accuracy: 0.5685\n",
      "Epoch 00004: saving model to model_init_2024-11-0503_40_18.603889/model-    4-1.02831-0.56845-1.59323-0.15625.h5\n",
      "21/21 [==============================] - 48s 2s/step - loss: 1.0283 - categorical_accuracy: 0.5685 - val_loss: 1.5932 - val_categorical_accuracy: 0.1562 - lr: 0.0100\n",
      "Epoch 5/25\n",
      "21/21 [==============================] - ETA: 0s - loss: 1.0065 - categorical_accuracy: 0.5655\n",
      "Epoch 00005: saving model to model_init_2024-11-0503_40_18.603889/model-    5-1.00648-0.56548-1.99489-0.16406.h5\n",
      "21/21 [==============================] - 51s 3s/step - loss: 1.0065 - categorical_accuracy: 0.5655 - val_loss: 1.9949 - val_categorical_accuracy: 0.1641 - lr: 0.0100\n",
      "Epoch 6/25\n",
      "21/21 [==============================] - ETA: 0s - loss: 0.9122 - categorical_accuracy: 0.5774\n",
      "Epoch 00006: saving model to model_init_2024-11-0503_40_18.603889/model-    6-0.91221-0.57738-1.54401-0.20312.h5\n",
      "21/21 [==============================] - 50s 2s/step - loss: 0.9122 - categorical_accuracy: 0.5774 - val_loss: 1.5440 - val_categorical_accuracy: 0.2031 - lr: 0.0100\n",
      "Epoch 7/25\n",
      "21/21 [==============================] - ETA: 0s - loss: 0.8827 - categorical_accuracy: 0.6399\n",
      "Epoch 00007: saving model to model_init_2024-11-0503_40_18.603889/model-    7-0.88268-0.63988-1.67377-0.24219.h5\n",
      "21/21 [==============================] - 50s 2s/step - loss: 0.8827 - categorical_accuracy: 0.6399 - val_loss: 1.6738 - val_categorical_accuracy: 0.2422 - lr: 0.0100\n",
      "Epoch 8/25\n",
      "21/21 [==============================] - ETA: 0s - loss: 0.8534 - categorical_accuracy: 0.6548\n",
      "Epoch 00008: saving model to model_init_2024-11-0503_40_18.603889/model-    8-0.85344-0.65476-2.24680-0.14844.h5\n",
      "21/21 [==============================] - 48s 2s/step - loss: 0.8534 - categorical_accuracy: 0.6548 - val_loss: 2.2468 - val_categorical_accuracy: 0.1484 - lr: 0.0100\n",
      "Epoch 9/25\n",
      "21/21 [==============================] - ETA: 0s - loss: 0.8096 - categorical_accuracy: 0.6414\n",
      "Epoch 00009: saving model to model_init_2024-11-0503_40_18.603889/model-    9-0.80965-0.64137-1.38254-0.19531.h5\n",
      "21/21 [==============================] - 50s 2s/step - loss: 0.8096 - categorical_accuracy: 0.6414 - val_loss: 1.3825 - val_categorical_accuracy: 0.1953 - lr: 0.0100\n",
      "Epoch 10/25\n",
      "21/21 [==============================] - ETA: 0s - loss: 0.7978 - categorical_accuracy: 0.6830\n",
      "Epoch 00010: saving model to model_init_2024-11-0503_40_18.603889/model-   10-0.79783-0.68304-1.73515-0.17188.h5\n",
      "21/21 [==============================] - 49s 2s/step - loss: 0.7978 - categorical_accuracy: 0.6830 - val_loss: 1.7351 - val_categorical_accuracy: 0.1719 - lr: 0.0100\n",
      "Epoch 11/25\n",
      "21/21 [==============================] - ETA: 0s - loss: 0.7271 - categorical_accuracy: 0.7217\n",
      "Epoch 00011: saving model to model_init_2024-11-0503_40_18.603889/model-   11-0.72712-0.72173-1.63392-0.45312.h5\n",
      "21/21 [==============================] - 50s 2s/step - loss: 0.7271 - categorical_accuracy: 0.7217 - val_loss: 1.6339 - val_categorical_accuracy: 0.4531 - lr: 0.0100\n",
      "Epoch 12/25\n",
      "21/21 [==============================] - ETA: 0s - loss: 0.7367 - categorical_accuracy: 0.6756\n",
      "Epoch 00012: saving model to model_init_2024-11-0503_40_18.603889/model-   12-0.73668-0.67560-2.29234-0.23438.h5\n",
      "21/21 [==============================] - 48s 2s/step - loss: 0.7367 - categorical_accuracy: 0.6756 - val_loss: 2.2923 - val_categorical_accuracy: 0.2344 - lr: 0.0100\n",
      "Epoch 13/25\n",
      "21/21 [==============================] - ETA: 0s - loss: 0.7270 - categorical_accuracy: 0.7202\n",
      "Epoch 00013: saving model to model_init_2024-11-0503_40_18.603889/model-   13-0.72701-0.72024-2.42292-0.21875.h5\n",
      "21/21 [==============================] - 51s 3s/step - loss: 0.7270 - categorical_accuracy: 0.7202 - val_loss: 2.4229 - val_categorical_accuracy: 0.2188 - lr: 0.0100\n",
      "Epoch 14/25\n",
      "21/21 [==============================] - ETA: 0s - loss: 0.6931 - categorical_accuracy: 0.7098\n",
      "Epoch 00014: saving model to model_init_2024-11-0503_40_18.603889/model-   14-0.69310-0.70982-2.87935-0.19531.h5\n",
      "\n",
      "Epoch 00014: ReduceLROnPlateau reducing learning rate to 0.0019999999552965165.\n",
      "21/21 [==============================] - 50s 2s/step - loss: 0.6931 - categorical_accuracy: 0.7098 - val_loss: 2.8793 - val_categorical_accuracy: 0.1953 - lr: 0.0100\n",
      "Epoch 15/25\n",
      "21/21 [==============================] - ETA: 0s - loss: 0.5987 - categorical_accuracy: 0.7589\n",
      "Epoch 00015: saving model to model_init_2024-11-0503_40_18.603889/model-   15-0.59869-0.75893-1.92388-0.31250.h5\n",
      "21/21 [==============================] - 50s 3s/step - loss: 0.5987 - categorical_accuracy: 0.7589 - val_loss: 1.9239 - val_categorical_accuracy: 0.3125 - lr: 0.0020\n",
      "Epoch 16/25\n",
      "21/21 [==============================] - ETA: 0s - loss: 0.5499 - categorical_accuracy: 0.7783\n",
      "Epoch 00016: saving model to model_init_2024-11-0503_40_18.603889/model-   16-0.54985-0.77827-1.54437-0.31250.h5\n",
      "21/21 [==============================] - 49s 2s/step - loss: 0.5499 - categorical_accuracy: 0.7783 - val_loss: 1.5444 - val_categorical_accuracy: 0.3125 - lr: 0.0020\n",
      "Epoch 17/25\n",
      "21/21 [==============================] - ETA: 0s - loss: 0.4865 - categorical_accuracy: 0.7902\n",
      "Epoch 00017: saving model to model_init_2024-11-0503_40_18.603889/model-   17-0.48654-0.79018-1.54701-0.28125.h5\n",
      "21/21 [==============================] - 50s 3s/step - loss: 0.4865 - categorical_accuracy: 0.7902 - val_loss: 1.5470 - val_categorical_accuracy: 0.2812 - lr: 0.0020\n",
      "Epoch 18/25\n",
      "21/21 [==============================] - ETA: 0s - loss: 0.4584 - categorical_accuracy: 0.8110\n",
      "Epoch 00018: saving model to model_init_2024-11-0503_40_18.603889/model-   18-0.45844-0.81101-1.47194-0.29688.h5\n",
      "21/21 [==============================] - 50s 3s/step - loss: 0.4584 - categorical_accuracy: 0.8110 - val_loss: 1.4719 - val_categorical_accuracy: 0.2969 - lr: 0.0020\n",
      "Epoch 19/25\n",
      "21/21 [==============================] - ETA: 0s - loss: 0.4239 - categorical_accuracy: 0.8125\n",
      "Epoch 00019: saving model to model_init_2024-11-0503_40_18.603889/model-   19-0.42394-0.81250-1.31770-0.36719.h5\n",
      "21/21 [==============================] - 50s 2s/step - loss: 0.4239 - categorical_accuracy: 0.8125 - val_loss: 1.3177 - val_categorical_accuracy: 0.3672 - lr: 0.0020\n",
      "Epoch 20/25\n",
      "21/21 [==============================] - ETA: 0s - loss: 0.3946 - categorical_accuracy: 0.8304\n",
      "Epoch 00020: saving model to model_init_2024-11-0503_40_18.603889/model-   20-0.39463-0.83036-1.16002-0.40625.h5\n",
      "21/21 [==============================] - 50s 2s/step - loss: 0.3946 - categorical_accuracy: 0.8304 - val_loss: 1.1600 - val_categorical_accuracy: 0.4062 - lr: 0.0020\n",
      "Epoch 21/25\n",
      "21/21 [==============================] - ETA: 0s - loss: 0.4098 - categorical_accuracy: 0.8244\n",
      "Epoch 00021: saving model to model_init_2024-11-0503_40_18.603889/model-   21-0.40981-0.82440-1.14513-0.37500.h5\n",
      "21/21 [==============================] - 52s 3s/step - loss: 0.4098 - categorical_accuracy: 0.8244 - val_loss: 1.1451 - val_categorical_accuracy: 0.3750 - lr: 0.0020\n",
      "Epoch 22/25\n",
      "21/21 [==============================] - ETA: 0s - loss: 0.4005 - categorical_accuracy: 0.8452\n",
      "Epoch 00022: saving model to model_init_2024-11-0503_40_18.603889/model-   22-0.40054-0.84524-1.25303-0.29688.h5\n",
      "21/21 [==============================] - 50s 3s/step - loss: 0.4005 - categorical_accuracy: 0.8452 - val_loss: 1.2530 - val_categorical_accuracy: 0.2969 - lr: 0.0020\n",
      "Epoch 23/25\n",
      "21/21 [==============================] - ETA: 0s - loss: 0.3523 - categorical_accuracy: 0.8497\n",
      "Epoch 00023: saving model to model_init_2024-11-0503_40_18.603889/model-   23-0.35232-0.84970-0.99837-0.41406.h5\n",
      "21/21 [==============================] - 50s 2s/step - loss: 0.3523 - categorical_accuracy: 0.8497 - val_loss: 0.9984 - val_categorical_accuracy: 0.4141 - lr: 0.0020\n",
      "Epoch 24/25\n",
      "21/21 [==============================] - ETA: 0s - loss: 0.3681 - categorical_accuracy: 0.8482\n",
      "Epoch 00024: saving model to model_init_2024-11-0503_40_18.603889/model-   24-0.36810-0.84821-0.80766-0.48438.h5\n",
      "21/21 [==============================] - 48s 2s/step - loss: 0.3681 - categorical_accuracy: 0.8482 - val_loss: 0.8077 - val_categorical_accuracy: 0.4844 - lr: 0.0020\n",
      "Epoch 25/25\n",
      "21/21 [==============================] - ETA: 0s - loss: 0.3445 - categorical_accuracy: 0.8795\n",
      "Epoch 00025: saving model to model_init_2024-11-0503_40_18.603889/model-   25-0.34452-0.87946-0.85248-0.42969.h5\n",
      "21/21 [==============================] - 50s 3s/step - loss: 0.3445 - categorical_accuracy: 0.8795 - val_loss: 0.8525 - val_categorical_accuracy: 0.4297 - lr: 0.0020\n"
     ]
    }
   ],
   "source": [
    "history = model2.fit(train_generator, steps_per_epoch=steps_per_epoch, epochs=num_epochs, verbose=1, \n",
    "                    callbacks=callbacks_list, validation_data=val_generator, \n",
    "                    validation_steps=validation_steps, class_weight=None, workers=1, initial_epoch=0)"
   ]
  },
  {
   "cell_type": "code",
   "execution_count": 21,
   "metadata": {},
   "outputs": [
    {
     "data": {
      "text/plain": [
       "<matplotlib.legend.Legend at 0x7f1e3e184c70>"
      ]
     },
     "execution_count": 21,
     "metadata": {},
     "output_type": "execute_result"
    },
    {
     "data": {
      "image/png": "[encoded data removed]",
      "text/plain": [
       "<Figure size 1440x432 with 2 Axes>"
      ]
     },
     "metadata": {
      "needs_background": "light"
     },
     "output_type": "display_data"
    }
   ],
   "source": [
    "plt.figure(figsize=(20,6))\n",
    "ax1 = plt.subplot(121)\n",
    "ax1 = plt.plot(history.history['loss'])\n",
    "ax1 = plt.plot(history.history['val_loss'])\n",
    "plt.title('model loss')\n",
    "plt.ylabel('loss')\n",
    "plt.xlabel('epoch')\n",
    "plt.legend(['train', 'validation'], loc='lower left')\n",
    "ax2 = plt.subplot(122)\n",
    "ax2 = plt.plot(history.history['categorical_accuracy'])\n",
    "ax2 = plt.plot(history.history['val_categorical_accuracy'])\n",
    "plt.title('model accuracy')\n",
    "plt.ylabel('categorical_accuracy')\n",
    "plt.xlabel('epoch')\n",
    "plt.legend(['train', 'validation'], loc='lower left')"
   ]
  },
  {
   "cell_type": "markdown",
   "metadata": {},
   "source": [
    "### Model 3 : TimeDistributed Conv2D + GRU (Dropout=0.2)"
   ]
  },
  {
   "cell_type": "code",
   "execution_count": 22,
   "metadata": {},
   "outputs": [],
   "source": [
    "model3 = Sequential()\n",
    "model3.add(TimeDistributed(\n",
    "    Conv2D(32, (3,3), activation='relu'), input_shape=input_shape)\n",
    ")\n",
    "model3.add(TimeDistributed(\n",
    "    MaxPooling2D((2,2)))\n",
    ")\n",
    "model3.add(BatchNormalization())\n",
    "model3.add(Dropout(0.2))\n",
    "\n",
    "model3.add(TimeDistributed(\n",
    "    Conv2D(64, (3,3), activation='relu'))\n",
    ")\n",
    "model3.add(TimeDistributed(\n",
    "    MaxPooling2D((2,2)))\n",
    ")\n",
    "model3.add(BatchNormalization())\n",
    "model3.add(Dropout(0.2))\n",
    "\n",
    "model3.add(TimeDistributed(GlobalAveragePooling2D()))\n",
    "model3.add(TimeDistributed(Dense(64, activation='relu')))\n",
    "model3.add(BatchNormalization())\n",
    "model3.add(Dropout(0.2))\n",
    "\n",
    "model3.add(GRU(128))\n",
    "model3.add(BatchNormalization())\n",
    "model3.add(Dense(5, activation='softmax'))"
   ]
  },
  {
   "cell_type": "code",
   "execution_count": 23,
   "metadata": {},
   "outputs": [
    {
     "name": "stdout",
     "output_type": "stream",
     "text": [
      "Model: \"sequential_2\"\n",
      "_________________________________________________________________\n",
      " Layer (type)                Output Shape              Param #   \n",
      "=================================================================\n",
      " time_distributed_6 (TimeDis  (None, 10, 118, 118, 32)  896      \n",
      " tributed)                                                       \n",
      "                                                                 \n",
      " time_distributed_7 (TimeDis  (None, 10, 59, 59, 32)   0         \n",
      " tributed)                                                       \n",
      "                                                                 \n",
      " batch_normalization_8 (Batc  (None, 10, 59, 59, 32)   128       \n",
      " hNormalization)                                                 \n",
      "                                                                 \n",
      " dropout_3 (Dropout)         (None, 10, 59, 59, 32)    0         \n",
      "                                                                 \n",
      " time_distributed_8 (TimeDis  (None, 10, 57, 57, 64)   18496     \n",
      " tributed)                                                       \n",
      "                                                                 \n",
      " time_distributed_9 (TimeDis  (None, 10, 28, 28, 64)   0         \n",
      " tributed)                                                       \n",
      "                                                                 \n",
      " batch_normalization_9 (Batc  (None, 10, 28, 28, 64)   256       \n",
      " hNormalization)                                                 \n",
      "                                                                 \n",
      " dropout_4 (Dropout)         (None, 10, 28, 28, 64)    0         \n",
      "                                                                 \n",
      " time_distributed_10 (TimeDi  (None, 10, 64)           0         \n",
      " stributed)                                                      \n",
      "                                                                 \n",
      " time_distributed_11 (TimeDi  (None, 10, 64)           4160      \n",
      " stributed)                                                      \n",
      "                                                                 \n",
      " batch_normalization_10 (Bat  (None, 10, 64)           256       \n",
      " chNormalization)                                                \n",
      "                                                                 \n",
      " dropout_5 (Dropout)         (None, 10, 64)            0         \n",
      "                                                                 \n",
      " gru_1 (GRU)                 (None, 128)               74496     \n",
      "                                                                 \n",
      " batch_normalization_11 (Bat  (None, 128)              512       \n",
      " chNormalization)                                                \n",
      "                                                                 \n",
      " dense_5 (Dense)             (None, 5)                 645       \n",
      "                                                                 \n",
      "=================================================================\n",
      "Total params: 99,845\n",
      "Trainable params: 99,269\n",
      "Non-trainable params: 576\n",
      "_________________________________________________________________\n",
      "None\n"
     ]
    }
   ],
   "source": [
    "optimiser = optimizers.Adam(lr=0.01) #write your optimizer\n",
    "model3.compile(optimizer=optimiser, loss='categorical_crossentropy', metrics=['categorical_accuracy'])\n",
    "print(model3.summary())"
   ]
  },
  {
   "cell_type": "code",
   "execution_count": 24,
   "metadata": {},
   "outputs": [],
   "source": [
    "train_generator = generator(train_path, train_doc, batch_size)\n",
    "val_generator = generator(val_path, val_doc, batch_size)"
   ]
  },
  {
   "cell_type": "code",
   "execution_count": 25,
   "metadata": {},
   "outputs": [
    {
     "name": "stdout",
     "output_type": "stream",
     "text": [
      "WARNING:tensorflow:`period` argument is deprecated. Please use `save_freq` to specify the frequency in number of batches seen.\n"
     ]
    }
   ],
   "source": [
    "model_name = 'model_init' + '_' + str(curr_dt_time).replace(' ','').replace(':','_') + '/'\n",
    "    \n",
    "if not os.path.exists(model_name):\n",
    "    os.mkdir(model_name)\n",
    "        \n",
    "filepath = model_name + \"model-{epoch:5d}-{loss:.5f}-{categorical_accuracy:.5f}-{val_loss:.5f}-{val_categorical_accuracy:.5f}.h5\"\n",
    "\n",
    "checkpoint = ModelCheckpoint(filepath, monitor='val_loss', verbose=1, save_best_only=False, save_weights_only=False, mode='auto', period=1)\n",
    "LR = ReduceLROnPlateau(monitor='val_loss', factor=0.2, patience=5, min_lr=0.001, verbose=1) # write the REducelronplateau code here\n",
    "callbacks_list = [checkpoint, LR]"
   ]
  },
  {
   "cell_type": "code",
   "execution_count": 26,
   "metadata": {},
   "outputs": [],
   "source": [
    "if (num_train_sequences%batch_size) == 0:\n",
    "    steps_per_epoch = int(num_train_sequences/batch_size)\n",
    "else:\n",
    "    steps_per_epoch = (num_train_sequences//batch_size) + 1\n",
    "\n",
    "if (num_val_sequences%batch_size) == 0:\n",
    "    validation_steps = int(num_val_sequences/batch_size)\n",
    "else:\n",
    "    validation_steps = (num_val_sequences//batch_size) + 1"
   ]
  },
  {
   "cell_type": "code",
   "execution_count": 27,
   "metadata": {},
   "outputs": [
    {
     "name": "stdout",
     "output_type": "stream",
     "text": [
      "Epoch 1/25\n",
      "21/21 [==============================] - ETA: 0s - loss: 1.5930 - categorical_accuracy: 0.3616\n",
      "Epoch 00001: saving model to model_init_2024-11-0503_40_18.603889/model-    1-1.59304-0.36161-1.97940-0.17969.h5\n",
      "21/21 [==============================] - 53s 3s/step - loss: 1.5930 - categorical_accuracy: 0.3616 - val_loss: 1.9794 - val_categorical_accuracy: 0.1797 - lr: 0.0100\n",
      "Epoch 2/25\n",
      "21/21 [==============================] - ETA: 0s - loss: 1.1765 - categorical_accuracy: 0.4568\n",
      "Epoch 00002: saving model to model_init_2024-11-0503_40_18.603889/model-    2-1.17649-0.45685-2.08394-0.18750.h5\n",
      "21/21 [==============================] - 50s 2s/step - loss: 1.1765 - categorical_accuracy: 0.4568 - val_loss: 2.0839 - val_categorical_accuracy: 0.1875 - lr: 0.0100\n",
      "Epoch 3/25\n",
      "21/21 [==============================] - ETA: 0s - loss: 1.0667 - categorical_accuracy: 0.5327\n",
      "Epoch 00003: saving model to model_init_2024-11-0503_40_18.603889/model-    3-1.06667-0.53274-1.87773-0.16406.h5\n",
      "21/21 [==============================] - 50s 2s/step - loss: 1.0667 - categorical_accuracy: 0.5327 - val_loss: 1.8777 - val_categorical_accuracy: 0.1641 - lr: 0.0100\n",
      "Epoch 4/25\n",
      "21/21 [==============================] - ETA: 0s - loss: 1.0146 - categorical_accuracy: 0.5580\n",
      "Epoch 00004: saving model to model_init_2024-11-0503_40_18.603889/model-    4-1.01465-0.55804-2.15042-0.17188.h5\n",
      "21/21 [==============================] - 48s 2s/step - loss: 1.0146 - categorical_accuracy: 0.5580 - val_loss: 2.1504 - val_categorical_accuracy: 0.1719 - lr: 0.0100\n",
      "Epoch 5/25\n",
      "21/21 [==============================] - ETA: 0s - loss: 0.9358 - categorical_accuracy: 0.5908\n",
      "Epoch 00005: saving model to model_init_2024-11-0503_40_18.603889/model-    5-0.93580-0.59077-2.19820-0.16406.h5\n",
      "21/21 [==============================] - 50s 2s/step - loss: 0.9358 - categorical_accuracy: 0.5908 - val_loss: 2.1982 - val_categorical_accuracy: 0.1641 - lr: 0.0100\n",
      "Epoch 6/25\n",
      "21/21 [==============================] - ETA: 0s - loss: 0.8805 - categorical_accuracy: 0.6101\n",
      "Epoch 00006: saving model to model_init_2024-11-0503_40_18.603889/model-    6-0.88054-0.61012-1.65426-0.15625.h5\n",
      "21/21 [==============================] - 50s 3s/step - loss: 0.8805 - categorical_accuracy: 0.6101 - val_loss: 1.6543 - val_categorical_accuracy: 0.1562 - lr: 0.0100\n",
      "Epoch 7/25\n",
      "21/21 [==============================] - ETA: 0s - loss: 0.7544 - categorical_accuracy: 0.6771\n",
      "Epoch 00007: saving model to model_init_2024-11-0503_40_18.603889/model-    7-0.75436-0.67708-1.87336-0.20312.h5\n",
      "21/21 [==============================] - 50s 2s/step - loss: 0.7544 - categorical_accuracy: 0.6771 - val_loss: 1.8734 - val_categorical_accuracy: 0.2031 - lr: 0.0100\n",
      "Epoch 8/25\n",
      "21/21 [==============================] - ETA: 0s - loss: 0.7962 - categorical_accuracy: 0.6771\n",
      "Epoch 00008: saving model to model_init_2024-11-0503_40_18.603889/model-    8-0.79621-0.67708-1.69735-0.27344.h5\n",
      "21/21 [==============================] - 48s 2s/step - loss: 0.7962 - categorical_accuracy: 0.6771 - val_loss: 1.6974 - val_categorical_accuracy: 0.2734 - lr: 0.0100\n",
      "Epoch 9/25\n",
      "21/21 [==============================] - ETA: 0s - loss: 0.8279 - categorical_accuracy: 0.6503\n",
      "Epoch 00009: saving model to model_init_2024-11-0503_40_18.603889/model-    9-0.82792-0.65030-1.97478-0.25000.h5\n",
      "21/21 [==============================] - 50s 3s/step - loss: 0.8279 - categorical_accuracy: 0.6503 - val_loss: 1.9748 - val_categorical_accuracy: 0.2500 - lr: 0.0100\n",
      "Epoch 10/25\n",
      "21/21 [==============================] - ETA: 0s - loss: 0.8253 - categorical_accuracy: 0.6488\n",
      "Epoch 00010: saving model to model_init_2024-11-0503_40_18.603889/model-   10-0.82528-0.64881-1.72434-0.26562.h5\n",
      "21/21 [==============================] - 50s 2s/step - loss: 0.8253 - categorical_accuracy: 0.6488 - val_loss: 1.7243 - val_categorical_accuracy: 0.2656 - lr: 0.0100\n",
      "Epoch 11/25\n",
      "21/21 [==============================] - ETA: 0s - loss: 0.7885 - categorical_accuracy: 0.6533\n",
      "Epoch 00011: saving model to model_init_2024-11-0503_40_18.603889/model-   11-0.78854-0.65327-2.24009-0.21094.h5\n",
      "\n",
      "Epoch 00011: ReduceLROnPlateau reducing learning rate to 0.0019999999552965165.\n",
      "21/21 [==============================] - 51s 3s/step - loss: 0.7885 - categorical_accuracy: 0.6533 - val_loss: 2.2401 - val_categorical_accuracy: 0.2109 - lr: 0.0100\n",
      "Epoch 12/25\n",
      "21/21 [==============================] - ETA: 0s - loss: 0.6514 - categorical_accuracy: 0.7321\n",
      "Epoch 00012: saving model to model_init_2024-11-0503_40_18.603889/model-   12-0.65138-0.73214-2.59002-0.18750.h5\n",
      "21/21 [==============================] - 49s 2s/step - loss: 0.6514 - categorical_accuracy: 0.7321 - val_loss: 2.5900 - val_categorical_accuracy: 0.1875 - lr: 0.0020\n",
      "Epoch 13/25\n",
      "21/21 [==============================] - ETA: 0s - loss: 0.6010 - categorical_accuracy: 0.7604\n",
      "Epoch 00013: saving model to model_init_2024-11-0503_40_18.603889/model-   13-0.60103-0.76042-2.73545-0.16406.h5\n",
      "21/21 [==============================] - 50s 3s/step - loss: 0.6010 - categorical_accuracy: 0.7604 - val_loss: 2.7355 - val_categorical_accuracy: 0.1641 - lr: 0.0020\n",
      "Epoch 14/25\n",
      "21/21 [==============================] - ETA: 0s - loss: 0.5468 - categorical_accuracy: 0.7560\n",
      "Epoch 00014: saving model to model_init_2024-11-0503_40_18.603889/model-   14-0.54682-0.75595-2.83577-0.15625.h5\n",
      "21/21 [==============================] - 50s 2s/step - loss: 0.5468 - categorical_accuracy: 0.7560 - val_loss: 2.8358 - val_categorical_accuracy: 0.1562 - lr: 0.0020\n",
      "Epoch 15/25\n",
      "21/21 [==============================] - ETA: 0s - loss: 0.5767 - categorical_accuracy: 0.7396\n",
      "Epoch 00015: saving model to model_init_2024-11-0503_40_18.603889/model-   15-0.57668-0.73958-2.70154-0.15625.h5\n",
      "21/21 [==============================] - 50s 3s/step - loss: 0.5767 - categorical_accuracy: 0.7396 - val_loss: 2.7015 - val_categorical_accuracy: 0.1562 - lr: 0.0020\n",
      "Epoch 16/25\n",
      "21/21 [==============================] - ETA: 0s - loss: 0.5167 - categorical_accuracy: 0.7634\n",
      "Epoch 00016: saving model to model_init_2024-11-0503_40_18.603889/model-   16-0.51674-0.76339-2.69786-0.17188.h5\n",
      "\n",
      "Epoch 00016: ReduceLROnPlateau reducing learning rate to 0.001.\n",
      "21/21 [==============================] - 48s 2s/step - loss: 0.5167 - categorical_accuracy: 0.7634 - val_loss: 2.6979 - val_categorical_accuracy: 0.1719 - lr: 0.0020\n",
      "Epoch 17/25\n",
      "21/21 [==============================] - ETA: 0s - loss: 0.4905 - categorical_accuracy: 0.7961\n",
      "Epoch 00017: saving model to model_init_2024-11-0503_40_18.603889/model-   17-0.49054-0.79613-2.46660-0.17188.h5\n",
      "21/21 [==============================] - 49s 2s/step - loss: 0.4905 - categorical_accuracy: 0.7961 - val_loss: 2.4666 - val_categorical_accuracy: 0.1719 - lr: 0.0010\n",
      "Epoch 18/25\n",
      "21/21 [==============================] - ETA: 0s - loss: 0.5042 - categorical_accuracy: 0.7812\n",
      "Epoch 00018: saving model to model_init_2024-11-0503_40_18.603889/model-   18-0.50416-0.78125-2.40392-0.19531.h5\n",
      "21/21 [==============================] - 50s 2s/step - loss: 0.5042 - categorical_accuracy: 0.7812 - val_loss: 2.4039 - val_categorical_accuracy: 0.1953 - lr: 0.0010\n",
      "Epoch 19/25\n",
      "21/21 [==============================] - ETA: 0s - loss: 0.5462 - categorical_accuracy: 0.7589\n",
      "Epoch 00019: saving model to model_init_2024-11-0503_40_18.603889/model-   19-0.54620-0.75893-2.25926-0.20312.h5\n",
      "21/21 [==============================] - 50s 3s/step - loss: 0.5462 - categorical_accuracy: 0.7589 - val_loss: 2.2593 - val_categorical_accuracy: 0.2031 - lr: 0.0010\n",
      "Epoch 20/25\n",
      "21/21 [==============================] - ETA: 0s - loss: 0.4695 - categorical_accuracy: 0.7932\n",
      "Epoch 00020: saving model to model_init_2024-11-0503_40_18.603889/model-   20-0.46947-0.79315-2.32370-0.20312.h5\n",
      "21/21 [==============================] - 48s 2s/step - loss: 0.4695 - categorical_accuracy: 0.7932 - val_loss: 2.3237 - val_categorical_accuracy: 0.2031 - lr: 0.0010\n",
      "Epoch 21/25\n",
      "21/21 [==============================] - ETA: 0s - loss: 0.4535 - categorical_accuracy: 0.7961\n",
      "Epoch 00021: saving model to model_init_2024-11-0503_40_18.603889/model-   21-0.45347-0.79613-1.90594-0.23438.h5\n",
      "21/21 [==============================] - 50s 3s/step - loss: 0.4535 - categorical_accuracy: 0.7961 - val_loss: 1.9059 - val_categorical_accuracy: 0.2344 - lr: 0.0010\n",
      "Epoch 22/25\n",
      "21/21 [==============================] - ETA: 0s - loss: 0.4707 - categorical_accuracy: 0.8006\n",
      "Epoch 00022: saving model to model_init_2024-11-0503_40_18.603889/model-   22-0.47074-0.80060-1.97364-0.23438.h5\n",
      "21/21 [==============================] - 50s 3s/step - loss: 0.4707 - categorical_accuracy: 0.8006 - val_loss: 1.9736 - val_categorical_accuracy: 0.2344 - lr: 0.0010\n",
      "Epoch 23/25\n",
      "21/21 [==============================] - ETA: 0s - loss: 0.4610 - categorical_accuracy: 0.7932\n",
      "Epoch 00023: saving model to model_init_2024-11-0503_40_18.603889/model-   23-0.46098-0.79315-1.54055-0.28906.h5\n",
      "21/21 [==============================] - 50s 2s/step - loss: 0.4610 - categorical_accuracy: 0.7932 - val_loss: 1.5405 - val_categorical_accuracy: 0.2891 - lr: 0.0010\n",
      "Epoch 24/25\n",
      "21/21 [==============================] - ETA: 0s - loss: 0.4315 - categorical_accuracy: 0.8244\n",
      "Epoch 00024: saving model to model_init_2024-11-0503_40_18.603889/model-   24-0.43149-0.82440-1.32994-0.39844.h5\n",
      "21/21 [==============================] - 48s 2s/step - loss: 0.4315 - categorical_accuracy: 0.8244 - val_loss: 1.3299 - val_categorical_accuracy: 0.3984 - lr: 0.0010\n",
      "Epoch 25/25\n",
      "21/21 [==============================] - ETA: 0s - loss: 0.4366 - categorical_accuracy: 0.8170\n",
      "Epoch 00025: saving model to model_init_2024-11-0503_40_18.603889/model-   25-0.43657-0.81696-1.00975-0.45312.h5\n",
      "21/21 [==============================] - 50s 2s/step - loss: 0.4366 - categorical_accuracy: 0.8170 - val_loss: 1.0097 - val_categorical_accuracy: 0.4531 - lr: 0.0010\n"
     ]
    }
   ],
   "source": [
    "history = model3.fit(train_generator, steps_per_epoch=steps_per_epoch, epochs=num_epochs, verbose=1, \n",
    "                    callbacks=callbacks_list, validation_data=val_generator, \n",
    "                    validation_steps=validation_steps, class_weight=None, workers=1, initial_epoch=0)"
   ]
  },
  {
   "cell_type": "code",
   "execution_count": 28,
   "metadata": {},
   "outputs": [
    {
     "data": {
      "text/plain": [
       "<matplotlib.legend.Legend at 0x7f1e3d3ed7c0>"
      ]
     },
     "execution_count": 28,
     "metadata": {},
     "output_type": "execute_result"
    },
    {
     "data": {
      "image/png": "[encoded data removed]",
      "text/plain": [
       "<Figure size 1440x432 with 2 Axes>"
      ]
     },
     "metadata": {
      "needs_background": "light"
     },
     "output_type": "display_data"
    }
   ],
   "source": [
    "plt.figure(figsize=(20,6))\n",
    "ax1 = plt.subplot(121)\n",
    "ax1 = plt.plot(history.history['loss'])\n",
    "ax1 = plt.plot(history.history['val_loss'])\n",
    "plt.title('model loss')\n",
    "plt.ylabel('loss')\n",
    "plt.xlabel('epoch')\n",
    "plt.legend(['train', 'validation'], loc='lower left')\n",
    "ax2 = plt.subplot(122)\n",
    "ax2 = plt.plot(history.history['categorical_accuracy'])\n",
    "ax2 = plt.plot(history.history['val_categorical_accuracy'])\n",
    "plt.title('model accuracy')\n",
    "plt.ylabel('categorical_accuracy')\n",
    "plt.xlabel('epoch')\n",
    "plt.legend(['train', 'validation'], loc='lower left')"
   ]
  },
  {
   "cell_type": "markdown",
   "metadata": {},
   "source": [
    "### Model 4 : TimeDistributed Conv2D + Dense"
   ]
  },
  {
   "cell_type": "code",
   "execution_count": 29,
   "metadata": {},
   "outputs": [],
   "source": [
    "model4 = Sequential()\n",
    "model4.add(TimeDistributed(\n",
    "    Conv2D(32, (3,3), activation='relu'), input_shape=input_shape)\n",
    ")\n",
    "model4.add(TimeDistributed(\n",
    "    MaxPooling2D((2,2)))\n",
    ")\n",
    "model4.add(BatchNormalization())\n",
    "\n",
    "model4.add(TimeDistributed(\n",
    "    Conv2D(64, (3,3), activation='relu'))\n",
    ")\n",
    "model4.add(TimeDistributed(\n",
    "    MaxPooling2D((2,2)))\n",
    ")\n",
    "model4.add(BatchNormalization())\n",
    "\n",
    "model4.add(TimeDistributed(\n",
    "    Conv2D(128, (3,3), activation='relu'))\n",
    ")\n",
    "model4.add(TimeDistributed(\n",
    "    MaxPooling2D((2,2)))\n",
    ")\n",
    "model4.add(BatchNormalization())\n",
    "\n",
    "model4.add(GlobalAveragePooling3D())\n",
    "model4.add(Dense(256, activation='relu'))\n",
    "model4.add(BatchNormalization())\n",
    "model4.add(Dense(5, activation='softmax'))"
   ]
  },
  {
   "cell_type": "code",
   "execution_count": 30,
   "metadata": {},
   "outputs": [
    {
     "name": "stdout",
     "output_type": "stream",
     "text": [
      "Model: \"sequential_3\"\n",
      "_________________________________________________________________\n",
      " Layer (type)                Output Shape              Param #   \n",
      "=================================================================\n",
      " time_distributed_12 (TimeDi  (None, 10, 118, 118, 32)  896      \n",
      " stributed)                                                      \n",
      "                                                                 \n",
      " time_distributed_13 (TimeDi  (None, 10, 59, 59, 32)   0         \n",
      " stributed)                                                      \n",
      "                                                                 \n",
      " batch_normalization_12 (Bat  (None, 10, 59, 59, 32)   128       \n",
      " chNormalization)                                                \n",
      "                                                                 \n",
      " time_distributed_14 (TimeDi  (None, 10, 57, 57, 64)   18496     \n",
      " stributed)                                                      \n",
      "                                                                 \n",
      " time_distributed_15 (TimeDi  (None, 10, 28, 28, 64)   0         \n",
      " stributed)                                                      \n",
      "                                                                 \n",
      " batch_normalization_13 (Bat  (None, 10, 28, 28, 64)   256       \n",
      " chNormalization)                                                \n",
      "                                                                 \n",
      " time_distributed_16 (TimeDi  (None, 10, 26, 26, 128)  73856     \n",
      " stributed)                                                      \n",
      "                                                                 \n",
      " time_distributed_17 (TimeDi  (None, 10, 13, 13, 128)  0         \n",
      " stributed)                                                      \n",
      "                                                                 \n",
      " batch_normalization_14 (Bat  (None, 10, 13, 13, 128)  512       \n",
      " chNormalization)                                                \n",
      "                                                                 \n",
      " global_average_pooling3d_1   (None, 128)              0         \n",
      " (GlobalAveragePooling3D)                                        \n",
      "                                                                 \n",
      " dense_6 (Dense)             (None, 256)               33024     \n",
      "                                                                 \n",
      " batch_normalization_15 (Bat  (None, 256)              1024      \n",
      " chNormalization)                                                \n",
      "                                                                 \n",
      " dense_7 (Dense)             (None, 5)                 1285      \n",
      "                                                                 \n",
      "=================================================================\n",
      "Total params: 129,477\n",
      "Trainable params: 128,517\n",
      "Non-trainable params: 960\n",
      "_________________________________________________________________\n",
      "None\n"
     ]
    }
   ],
   "source": [
    "optimiser = optimizers.Adam(lr=0.01) #write your optimizer\n",
    "model4.compile(optimizer=optimiser, loss='categorical_crossentropy', metrics=['categorical_accuracy'])\n",
    "print(model4.summary())"
   ]
  },
  {
   "cell_type": "code",
   "execution_count": 31,
   "metadata": {},
   "outputs": [],
   "source": [
    "train_generator = generator(train_path, train_doc, batch_size)\n",
    "val_generator = generator(val_path, val_doc, batch_size)"
   ]
  },
  {
   "cell_type": "code",
   "execution_count": 32,
   "metadata": {},
   "outputs": [
    {
     "name": "stdout",
     "output_type": "stream",
     "text": [
      "WARNING:tensorflow:`period` argument is deprecated. Please use `save_freq` to specify the frequency in number of batches seen.\n"
     ]
    }
   ],
   "source": [
    "model_name = 'model_init' + '_' + str(curr_dt_time).replace(' ','').replace(':','_') + '/'\n",
    "    \n",
    "if not os.path.exists(model_name):\n",
    "    os.mkdir(model_name)\n",
    "        \n",
    "filepath = model_name + \"model-{epoch:5d}-{loss:.5f}-{categorical_accuracy:.5f}-{val_loss:.5f}-{val_categorical_accuracy:.5f}.h5\"\n",
    "\n",
    "checkpoint = ModelCheckpoint(filepath, monitor='val_loss', verbose=1, save_best_only=False, save_weights_only=False, mode='auto', period=1)\n",
    "LR = ReduceLROnPlateau(monitor='val_loss', factor=0.2, patience=5, min_lr=0.001, verbose=1) # write the REducelronplateau code here\n",
    "callbacks_list = [checkpoint, LR]"
   ]
  },
  {
   "cell_type": "code",
   "execution_count": 33,
   "metadata": {},
   "outputs": [],
   "source": [
    "if (num_train_sequences%batch_size) == 0:\n",
    "    steps_per_epoch = int(num_train_sequences/batch_size)\n",
    "else:\n",
    "    steps_per_epoch = (num_train_sequences//batch_size) + 1\n",
    "\n",
    "if (num_val_sequences%batch_size) == 0:\n",
    "    validation_steps = int(num_val_sequences/batch_size)\n",
    "else:\n",
    "    validation_steps = (num_val_sequences//batch_size) + 1"
   ]
  },
  {
   "cell_type": "code",
   "execution_count": 34,
   "metadata": {},
   "outputs": [
    {
     "name": "stdout",
     "output_type": "stream",
     "text": [
      "Epoch 1/25\n",
      "21/21 [==============================] - ETA: 0s - loss: 1.6021 - categorical_accuracy: 0.4271\n",
      "Epoch 00001: saving model to model_init_2024-11-0503_40_18.603889/model-    1-1.60207-0.42708-27.28418-0.17969.h5\n",
      "21/21 [==============================] - 52s 3s/step - loss: 1.6021 - categorical_accuracy: 0.4271 - val_loss: 27.2842 - val_categorical_accuracy: 0.1797 - lr: 0.0100\n",
      "Epoch 2/25\n",
      "21/21 [==============================] - ETA: 0s - loss: 1.1791 - categorical_accuracy: 0.5179\n",
      "Epoch 00002: saving model to model_init_2024-11-0503_40_18.603889/model-    2-1.17914-0.51786-11.43412-0.21094.h5\n",
      "21/21 [==============================] - 50s 2s/step - loss: 1.1791 - categorical_accuracy: 0.5179 - val_loss: 11.4341 - val_categorical_accuracy: 0.2109 - lr: 0.0100\n",
      "Epoch 3/25\n",
      "21/21 [==============================] - ETA: 0s - loss: 1.0778 - categorical_accuracy: 0.5104\n",
      "Epoch 00003: saving model to model_init_2024-11-0503_40_18.603889/model-    3-1.07780-0.51042-7.06034-0.16406.h5\n",
      "21/21 [==============================] - 49s 2s/step - loss: 1.0778 - categorical_accuracy: 0.5104 - val_loss: 7.0603 - val_categorical_accuracy: 0.1641 - lr: 0.0100\n",
      "Epoch 4/25\n",
      "21/21 [==============================] - ETA: 0s - loss: 1.0273 - categorical_accuracy: 0.5610\n",
      "Epoch 00004: saving model to model_init_2024-11-0503_40_18.603889/model-    4-1.02734-0.56101-3.83984-0.16406.h5\n",
      "21/21 [==============================] - 48s 2s/step - loss: 1.0273 - categorical_accuracy: 0.5610 - val_loss: 3.8398 - val_categorical_accuracy: 0.1641 - lr: 0.0100\n",
      "Epoch 5/25\n",
      "21/21 [==============================] - ETA: 0s - loss: 0.9682 - categorical_accuracy: 0.5923\n",
      "Epoch 00005: saving model to model_init_2024-11-0503_40_18.603889/model-    5-0.96825-0.59226-2.34889-0.17188.h5\n",
      "21/21 [==============================] - 50s 3s/step - loss: 0.9682 - categorical_accuracy: 0.5923 - val_loss: 2.3489 - val_categorical_accuracy: 0.1719 - lr: 0.0100\n",
      "Epoch 6/25\n",
      "21/21 [==============================] - ETA: 0s - loss: 0.9285 - categorical_accuracy: 0.5982\n",
      "Epoch 00006: saving model to model_init_2024-11-0503_40_18.603889/model-    6-0.92851-0.59821-2.73732-0.14062.h5\n",
      "21/21 [==============================] - 50s 3s/step - loss: 0.9285 - categorical_accuracy: 0.5982 - val_loss: 2.7373 - val_categorical_accuracy: 0.1406 - lr: 0.0100\n",
      "Epoch 7/25\n",
      "21/21 [==============================] - ETA: 0s - loss: 0.9343 - categorical_accuracy: 0.6146\n",
      "Epoch 00007: saving model to model_init_2024-11-0503_40_18.603889/model-    7-0.93432-0.61458-2.03904-0.15625.h5\n",
      "21/21 [==============================] - 51s 3s/step - loss: 0.9343 - categorical_accuracy: 0.6146 - val_loss: 2.0390 - val_categorical_accuracy: 0.1562 - lr: 0.0100\n",
      "Epoch 8/25\n",
      "21/21 [==============================] - ETA: 0s - loss: 0.8036 - categorical_accuracy: 0.6607\n",
      "Epoch 00008: saving model to model_init_2024-11-0503_40_18.603889/model-    8-0.80358-0.66071-2.90428-0.15625.h5\n",
      "21/21 [==============================] - 49s 2s/step - loss: 0.8036 - categorical_accuracy: 0.6607 - val_loss: 2.9043 - val_categorical_accuracy: 0.1562 - lr: 0.0100\n",
      "Epoch 9/25\n",
      "21/21 [==============================] - ETA: 0s - loss: 0.8030 - categorical_accuracy: 0.6756\n",
      "Epoch 00009: saving model to model_init_2024-11-0503_40_18.603889/model-    9-0.80298-0.67560-3.25889-0.17969.h5\n",
      "21/21 [==============================] - 50s 2s/step - loss: 0.8030 - categorical_accuracy: 0.6756 - val_loss: 3.2589 - val_categorical_accuracy: 0.1797 - lr: 0.0100\n",
      "Epoch 10/25\n",
      "21/21 [==============================] - ETA: 0s - loss: 0.8053 - categorical_accuracy: 0.6696\n",
      "Epoch 00010: saving model to model_init_2024-11-0503_40_18.603889/model-   10-0.80528-0.66964-2.79305-0.27344.h5\n",
      "21/21 [==============================] - 51s 3s/step - loss: 0.8053 - categorical_accuracy: 0.6696 - val_loss: 2.7931 - val_categorical_accuracy: 0.2734 - lr: 0.0100\n",
      "Epoch 11/25\n",
      "21/21 [==============================] - ETA: 0s - loss: 0.7344 - categorical_accuracy: 0.6979\n",
      "Epoch 00011: saving model to model_init_2024-11-0503_40_18.603889/model-   11-0.73442-0.69792-3.45610-0.29688.h5\n",
      "21/21 [==============================] - 50s 2s/step - loss: 0.7344 - categorical_accuracy: 0.6979 - val_loss: 3.4561 - val_categorical_accuracy: 0.2969 - lr: 0.0100\n",
      "Epoch 12/25\n",
      "21/21 [==============================] - ETA: 0s - loss: 0.9198 - categorical_accuracy: 0.6354\n",
      "Epoch 00012: saving model to model_init_2024-11-0503_40_18.603889/model-   12-0.91976-0.63542-2.11431-0.25000.h5\n",
      "\n",
      "Epoch 00012: ReduceLROnPlateau reducing learning rate to 0.0019999999552965165.\n",
      "21/21 [==============================] - 49s 2s/step - loss: 0.9198 - categorical_accuracy: 0.6354 - val_loss: 2.1143 - val_categorical_accuracy: 0.2500 - lr: 0.0100\n",
      "Epoch 13/25\n",
      "21/21 [==============================] - ETA: 0s - loss: 0.6858 - categorical_accuracy: 0.7158\n",
      "Epoch 00013: saving model to model_init_2024-11-0503_40_18.603889/model-   13-0.68581-0.71577-2.27803-0.15625.h5\n",
      "21/21 [==============================] - 50s 3s/step - loss: 0.6858 - categorical_accuracy: 0.7158 - val_loss: 2.2780 - val_categorical_accuracy: 0.1562 - lr: 0.0020\n",
      "Epoch 14/25\n",
      "21/21 [==============================] - ETA: 0s - loss: 0.5448 - categorical_accuracy: 0.7664\n",
      "Epoch 00014: saving model to model_init_2024-11-0503_40_18.603889/model-   14-0.54484-0.76637-1.63785-0.22656.h5\n",
      "21/21 [==============================] - 51s 3s/step - loss: 0.5448 - categorical_accuracy: 0.7664 - val_loss: 1.6379 - val_categorical_accuracy: 0.2266 - lr: 0.0020\n",
      "Epoch 15/25\n",
      "21/21 [==============================] - ETA: 0s - loss: 0.4828 - categorical_accuracy: 0.7932\n",
      "Epoch 00015: saving model to model_init_2024-11-0503_40_18.603889/model-   15-0.48281-0.79315-1.24984-0.24219.h5\n",
      "21/21 [==============================] - 51s 3s/step - loss: 0.4828 - categorical_accuracy: 0.7932 - val_loss: 1.2498 - val_categorical_accuracy: 0.2422 - lr: 0.0020\n",
      "Epoch 16/25\n",
      "21/21 [==============================] - ETA: 0s - loss: 0.4716 - categorical_accuracy: 0.7798\n",
      "Epoch 00016: saving model to model_init_2024-11-0503_40_18.603889/model-   16-0.47159-0.77976-1.20688-0.25781.h5\n",
      "21/21 [==============================] - 49s 2s/step - loss: 0.4716 - categorical_accuracy: 0.7798 - val_loss: 1.2069 - val_categorical_accuracy: 0.2578 - lr: 0.0020\n",
      "Epoch 17/25\n",
      "21/21 [==============================] - ETA: 0s - loss: 0.4907 - categorical_accuracy: 0.7812\n",
      "Epoch 00017: saving model to model_init_2024-11-0503_40_18.603889/model-   17-0.49068-0.78125-1.17639-0.33594.h5\n",
      "21/21 [==============================] - 50s 2s/step - loss: 0.4907 - categorical_accuracy: 0.7812 - val_loss: 1.1764 - val_categorical_accuracy: 0.3359 - lr: 0.0020\n",
      "Epoch 18/25\n",
      "21/21 [==============================] - ETA: 0s - loss: 0.4512 - categorical_accuracy: 0.8125\n",
      "Epoch 00018: saving model to model_init_2024-11-0503_40_18.603889/model-   18-0.45119-0.81250-1.00398-0.41406.h5\n",
      "21/21 [==============================] - 50s 3s/step - loss: 0.4512 - categorical_accuracy: 0.8125 - val_loss: 1.0040 - val_categorical_accuracy: 0.4141 - lr: 0.0020\n",
      "Epoch 19/25\n",
      "21/21 [==============================] - ETA: 0s - loss: 0.4328 - categorical_accuracy: 0.8289\n",
      "Epoch 00019: saving model to model_init_2024-11-0503_40_18.603889/model-   19-0.43280-0.82887-1.01853-0.39062.h5\n",
      "21/21 [==============================] - 50s 3s/step - loss: 0.4328 - categorical_accuracy: 0.8289 - val_loss: 1.0185 - val_categorical_accuracy: 0.3906 - lr: 0.0020\n",
      "Epoch 20/25\n",
      "21/21 [==============================] - ETA: 0s - loss: 0.3899 - categorical_accuracy: 0.8378\n",
      "Epoch 00020: saving model to model_init_2024-11-0503_40_18.603889/model-   20-0.38988-0.83780-0.87632-0.45312.h5\n",
      "21/21 [==============================] - 49s 2s/step - loss: 0.3899 - categorical_accuracy: 0.8378 - val_loss: 0.8763 - val_categorical_accuracy: 0.4531 - lr: 0.0020\n",
      "Epoch 21/25\n",
      "21/21 [==============================] - ETA: 0s - loss: 0.3928 - categorical_accuracy: 0.8423\n",
      "Epoch 00021: saving model to model_init_2024-11-0503_40_18.603889/model-   21-0.39283-0.84226-0.65851-0.50781.h5\n",
      "21/21 [==============================] - 50s 3s/step - loss: 0.3928 - categorical_accuracy: 0.8423 - val_loss: 0.6585 - val_categorical_accuracy: 0.5078 - lr: 0.0020\n",
      "Epoch 22/25\n",
      "21/21 [==============================] - ETA: 0s - loss: 0.3887 - categorical_accuracy: 0.8333\n",
      "Epoch 00022: saving model to model_init_2024-11-0503_40_18.603889/model-   22-0.38867-0.83333-0.75146-0.46875.h5\n",
      "21/21 [==============================] - 50s 3s/step - loss: 0.3887 - categorical_accuracy: 0.8333 - val_loss: 0.7515 - val_categorical_accuracy: 0.4688 - lr: 0.0020\n",
      "Epoch 23/25\n",
      "21/21 [==============================] - ETA: 0s - loss: 0.3635 - categorical_accuracy: 0.8586\n",
      "Epoch 00023: saving model to model_init_2024-11-0503_40_18.603889/model-   23-0.36351-0.85863-0.75560-0.43750.h5\n",
      "21/21 [==============================] - 51s 3s/step - loss: 0.3635 - categorical_accuracy: 0.8586 - val_loss: 0.7556 - val_categorical_accuracy: 0.4375 - lr: 0.0020\n",
      "Epoch 24/25\n",
      "21/21 [==============================] - ETA: 0s - loss: 0.3589 - categorical_accuracy: 0.8393\n",
      "Epoch 00024: saving model to model_init_2024-11-0503_40_18.603889/model-   24-0.35893-0.83929-0.81191-0.45312.h5\n",
      "21/21 [==============================] - 48s 2s/step - loss: 0.3589 - categorical_accuracy: 0.8393 - val_loss: 0.8119 - val_categorical_accuracy: 0.4531 - lr: 0.0020\n",
      "Epoch 25/25\n",
      "21/21 [==============================] - ETA: 0s - loss: 0.3225 - categorical_accuracy: 0.8646\n",
      "Epoch 00025: saving model to model_init_2024-11-0503_40_18.603889/model-   25-0.32245-0.86458-0.55900-0.56250.h5\n",
      "21/21 [==============================] - 51s 3s/step - loss: 0.3225 - categorical_accuracy: 0.8646 - val_loss: 0.5590 - val_categorical_accuracy: 0.5625 - lr: 0.0020\n"
     ]
    }
   ],
   "source": [
    "history = model4.fit(train_generator, steps_per_epoch=steps_per_epoch, epochs=num_epochs, verbose=1, \n",
    "                    callbacks=callbacks_list, validation_data=val_generator, \n",
    "                    validation_steps=validation_steps, class_weight=None, workers=1, initial_epoch=0)"
   ]
  },
  {
   "cell_type": "code",
   "execution_count": 35,
   "metadata": {},
   "outputs": [
    {
     "data": {
      "text/plain": [
       "<matplotlib.legend.Legend at 0x7f1e3c8badf0>"
      ]
     },
     "execution_count": 35,
     "metadata": {},
     "output_type": "execute_result"
    },
    {
     "data": {
      "image/png": "[encoded data removed]",
      "text/plain": [
       "<Figure size 1440x432 with 2 Axes>"
      ]
     },
     "metadata": {
      "needs_background": "light"
     },
     "output_type": "display_data"
    }
   ],
   "source": [
    "plt.figure(figsize=(20,6))\n",
    "ax1 = plt.subplot(121)\n",
    "ax1 = plt.plot(history.history['loss'])\n",
    "ax1 = plt.plot(history.history['val_loss'])\n",
    "plt.title('model loss')\n",
    "plt.ylabel('loss')\n",
    "plt.xlabel('epoch')\n",
    "plt.legend(['train', 'validation'], loc='lower left')\n",
    "ax2 = plt.subplot(122)\n",
    "ax2 = plt.plot(history.history['categorical_accuracy'])\n",
    "ax2 = plt.plot(history.history['val_categorical_accuracy'])\n",
    "plt.title('model accuracy')\n",
    "plt.ylabel('categorical_accuracy')\n",
    "plt.xlabel('epoch')\n",
    "plt.legend(['train', 'validation'], loc='lower left')"
   ]
  },
  {
   "cell_type": "markdown",
   "metadata": {},
   "source": [
    "### Model 5 : TimeDistributed + ConvLSTM2D"
   ]
  },
  {
   "cell_type": "code",
   "execution_count": 36,
   "metadata": {},
   "outputs": [],
   "source": [
    "model5 = Sequential()\n",
    "model5.add(TimeDistributed(\n",
    "    Conv2D(8, (3,3), activation='relu'), input_shape=input_shape)\n",
    ")\n",
    "model5.add(BatchNormalization())\n",
    "model5.add(TimeDistributed(\n",
    "    Conv2D(16, (3,3), activation='relu'))\n",
    ")\n",
    "model5.add(BatchNormalization())\n",
    "model5.add(\n",
    "    ConvLSTM2D(8, kernel_size = 3, return_sequences=False)\n",
    ")\n",
    "model5.add(BatchNormalization())\n",
    "model5.add(TimeDistributed(\n",
    "    Dense(64, activation='relu'))\n",
    ")\n",
    "model5.add(BatchNormalization())\n",
    "model5.add(GlobalAveragePooling2D())\n",
    "model5.add(Dense(64, activation='relu'))\n",
    "model5.add(Dense(5, activation='softmax'))"
   ]
  },
  {
   "cell_type": "code",
   "execution_count": 37,
   "metadata": {},
   "outputs": [
    {
     "name": "stdout",
     "output_type": "stream",
     "text": [
      "Model: \"sequential_4\"\n",
      "_________________________________________________________________\n",
      " Layer (type)                Output Shape              Param #   \n",
      "=================================================================\n",
      " time_distributed_18 (TimeDi  (None, 10, 118, 118, 8)  224       \n",
      " stributed)                                                      \n",
      "                                                                 \n",
      " batch_normalization_16 (Bat  (None, 10, 118, 118, 8)  32        \n",
      " chNormalization)                                                \n",
      "                                                                 \n",
      " time_distributed_19 (TimeDi  (None, 10, 116, 116, 16)  1168     \n",
      " stributed)                                                      \n",
      "                                                                 \n",
      " batch_normalization_17 (Bat  (None, 10, 116, 116, 16)  64       \n",
      " chNormalization)                                                \n",
      "                                                                 \n",
      " conv_lstm2d (ConvLSTM2D)    (None, 114, 114, 8)       6944      \n",
      "                                                                 \n",
      " batch_normalization_18 (Bat  (None, 114, 114, 8)      32        \n",
      " chNormalization)                                                \n",
      "                                                                 \n",
      " time_distributed_20 (TimeDi  (None, 114, 114, 64)     576       \n",
      " stributed)                                                      \n",
      "                                                                 \n",
      " batch_normalization_19 (Bat  (None, 114, 114, 64)     256       \n",
      " chNormalization)                                                \n",
      "                                                                 \n",
      " global_average_pooling2d_2   (None, 64)               0         \n",
      " (GlobalAveragePooling2D)                                        \n",
      "                                                                 \n",
      " dense_9 (Dense)             (None, 64)                4160      \n",
      "                                                                 \n",
      " dense_10 (Dense)            (None, 5)                 325       \n",
      "                                                                 \n",
      "=================================================================\n",
      "Total params: 13,781\n",
      "Trainable params: 13,589\n",
      "Non-trainable params: 192\n",
      "_________________________________________________________________\n",
      "None\n"
     ]
    }
   ],
   "source": [
    "optimiser = optimizers.Adam(lr=0.01) #write your optimizer\n",
    "model5.compile(optimizer=optimiser, loss='categorical_crossentropy', metrics=['categorical_accuracy'])\n",
    "print(model5.summary())"
   ]
  },
  {
   "cell_type": "code",
   "execution_count": 38,
   "metadata": {},
   "outputs": [],
   "source": [
    "train_generator = generator(train_path, train_doc, batch_size)\n",
    "val_generator = generator(val_path, val_doc, batch_size)"
   ]
  },
  {
   "cell_type": "code",
   "execution_count": 39,
   "metadata": {},
   "outputs": [
    {
     "name": "stdout",
     "output_type": "stream",
     "text": [
      "WARNING:tensorflow:`period` argument is deprecated. Please use `save_freq` to specify the frequency in number of batches seen.\n"
     ]
    }
   ],
   "source": [
    "model_name = 'model_init' + '_' + str(curr_dt_time).replace(' ','').replace(':','_') + '/'\n",
    "    \n",
    "if not os.path.exists(model_name):\n",
    "    os.mkdir(model_name)\n",
    "        \n",
    "filepath = model_name + \"model-{epoch:5d}-{loss:.5f}-{categorical_accuracy:.5f}-{val_loss:.5f}-{val_categorical_accuracy:.5f}.h5\"\n",
    "\n",
    "checkpoint = ModelCheckpoint(filepath, monitor='val_loss', verbose=1, save_best_only=False, save_weights_only=False, mode='auto', period=1)\n",
    "LR = ReduceLROnPlateau(monitor='val_loss', factor=0.2, patience=5, min_lr=0.001, verbose=1) # write the REducelronplateau code here\n",
    "callbacks_list = [checkpoint, LR]"
   ]
  },
  {
   "cell_type": "code",
   "execution_count": 40,
   "metadata": {},
   "outputs": [],
   "source": [
    "if (num_train_sequences%batch_size) == 0:\n",
    "    steps_per_epoch = int(num_train_sequences/batch_size)\n",
    "else:\n",
    "    steps_per_epoch = (num_train_sequences//batch_size) + 1\n",
    "\n",
    "if (num_val_sequences%batch_size) == 0:\n",
    "    validation_steps = int(num_val_sequences/batch_size)\n",
    "else:\n",
    "    validation_steps = (num_val_sequences//batch_size) + 1"
   ]
  },
  {
   "cell_type": "code",
   "execution_count": 41,
   "metadata": {},
   "outputs": [
    {
     "name": "stdout",
     "output_type": "stream",
     "text": [
      "Epoch 1/25\n",
      "21/21 [==============================] - ETA: 0s - loss: 1.4051 - categorical_accuracy: 0.3661\n",
      "Epoch 00001: saving model to model_init_2024-11-0503_40_18.603889/model-    1-1.40506-0.36607-1.52283-0.17969.h5\n",
      "21/21 [==============================] - 53s 3s/step - loss: 1.4051 - categorical_accuracy: 0.3661 - val_loss: 1.5228 - val_categorical_accuracy: 0.1797 - lr: 0.0100\n",
      "Epoch 2/25\n",
      "21/21 [==============================] - ETA: 0s - loss: 1.1957 - categorical_accuracy: 0.4539\n",
      "Epoch 00002: saving model to model_init_2024-11-0503_40_18.603889/model-    2-1.19572-0.45387-1.57442-0.13281.h5\n",
      "21/21 [==============================] - 51s 3s/step - loss: 1.1957 - categorical_accuracy: 0.4539 - val_loss: 1.5744 - val_categorical_accuracy: 0.1328 - lr: 0.0100\n",
      "Epoch 3/25\n",
      "21/21 [==============================] - ETA: 0s - loss: 1.1433 - categorical_accuracy: 0.4688\n",
      "Epoch 00003: saving model to model_init_2024-11-0503_40_18.603889/model-    3-1.14326-0.46875-1.33267-0.17188.h5\n",
      "21/21 [==============================] - 51s 3s/step - loss: 1.1433 - categorical_accuracy: 0.4688 - val_loss: 1.3327 - val_categorical_accuracy: 0.1719 - lr: 0.0100\n",
      "Epoch 4/25\n",
      "21/21 [==============================] - ETA: 0s - loss: 1.0532 - categorical_accuracy: 0.4955\n",
      "Epoch 00004: saving model to model_init_2024-11-0503_40_18.603889/model-    4-1.05315-0.49554-1.69458-0.14062.h5\n",
      "21/21 [==============================] - 49s 2s/step - loss: 1.0532 - categorical_accuracy: 0.4955 - val_loss: 1.6946 - val_categorical_accuracy: 0.1406 - lr: 0.0100\n",
      "Epoch 5/25\n",
      "21/21 [==============================] - ETA: 0s - loss: 1.0055 - categorical_accuracy: 0.5432\n",
      "Epoch 00005: saving model to model_init_2024-11-0503_40_18.603889/model-    5-1.00551-0.54315-2.08038-0.14062.h5\n",
      "21/21 [==============================] - 51s 3s/step - loss: 1.0055 - categorical_accuracy: 0.5432 - val_loss: 2.0804 - val_categorical_accuracy: 0.1406 - lr: 0.0100\n",
      "Epoch 6/25\n",
      "21/21 [==============================] - ETA: 0s - loss: 0.9983 - categorical_accuracy: 0.5685\n",
      "Epoch 00006: saving model to model_init_2024-11-0503_40_18.603889/model-    6-0.99832-0.56845-1.50465-0.39062.h5\n",
      "21/21 [==============================] - 51s 3s/step - loss: 0.9983 - categorical_accuracy: 0.5685 - val_loss: 1.5046 - val_categorical_accuracy: 0.3906 - lr: 0.0100\n",
      "Epoch 7/25\n",
      "21/21 [==============================] - ETA: 0s - loss: 0.8936 - categorical_accuracy: 0.5818\n",
      "Epoch 00007: saving model to model_init_2024-11-0503_40_18.603889/model-    7-0.89361-0.58185-1.86600-0.12500.h5\n",
      "21/21 [==============================] - 51s 3s/step - loss: 0.8936 - categorical_accuracy: 0.5818 - val_loss: 1.8660 - val_categorical_accuracy: 0.1250 - lr: 0.0100\n",
      "Epoch 8/25\n",
      "21/21 [==============================] - ETA: 0s - loss: 0.9490 - categorical_accuracy: 0.5551\n",
      "Epoch 00008: saving model to model_init_2024-11-0503_40_18.603889/model-    8-0.94895-0.55506-3.14056-0.14062.h5\n",
      "\n",
      "Epoch 00008: ReduceLROnPlateau reducing learning rate to 0.0019999999552965165.\n",
      "21/21 [==============================] - 50s 2s/step - loss: 0.9490 - categorical_accuracy: 0.5551 - val_loss: 3.1406 - val_categorical_accuracy: 0.1406 - lr: 0.0100\n",
      "Epoch 9/25\n",
      "21/21 [==============================] - ETA: 0s - loss: 0.8427 - categorical_accuracy: 0.6176\n",
      "Epoch 00009: saving model to model_init_2024-11-0503_40_18.603889/model-    9-0.84268-0.61756-2.39671-0.14062.h5\n",
      "21/21 [==============================] - 52s 3s/step - loss: 0.8427 - categorical_accuracy: 0.6176 - val_loss: 2.3967 - val_categorical_accuracy: 0.1406 - lr: 0.0020\n",
      "Epoch 10/25\n",
      "21/21 [==============================] - ETA: 0s - loss: 0.7791 - categorical_accuracy: 0.6369\n",
      "Epoch 00010: saving model to model_init_2024-11-0503_40_18.603889/model-   10-0.77908-0.63690-2.56897-0.10938.h5\n",
      "21/21 [==============================] - 52s 3s/step - loss: 0.7791 - categorical_accuracy: 0.6369 - val_loss: 2.5690 - val_categorical_accuracy: 0.1094 - lr: 0.0020\n",
      "Epoch 11/25\n",
      "21/21 [==============================] - ETA: 0s - loss: 0.7654 - categorical_accuracy: 0.6533\n",
      "Epoch 00011: saving model to model_init_2024-11-0503_40_18.603889/model-   11-0.76541-0.65327-2.01412-0.17188.h5\n",
      "21/21 [==============================] - 51s 3s/step - loss: 0.7654 - categorical_accuracy: 0.6533 - val_loss: 2.0141 - val_categorical_accuracy: 0.1719 - lr: 0.0020\n",
      "Epoch 12/25\n",
      "21/21 [==============================] - ETA: 0s - loss: 0.7542 - categorical_accuracy: 0.6339\n",
      "Epoch 00012: saving model to model_init_2024-11-0503_40_18.603889/model-   12-0.75420-0.63393-2.01896-0.13281.h5\n",
      "21/21 [==============================] - 48s 2s/step - loss: 0.7542 - categorical_accuracy: 0.6339 - val_loss: 2.0190 - val_categorical_accuracy: 0.1328 - lr: 0.0020\n",
      "Epoch 13/25\n",
      "21/21 [==============================] - ETA: 0s - loss: 0.7475 - categorical_accuracy: 0.6682\n",
      "Epoch 00013: saving model to model_init_2024-11-0503_40_18.603889/model-   13-0.74750-0.66815-1.97080-0.14844.h5\n",
      "\n",
      "Epoch 00013: ReduceLROnPlateau reducing learning rate to 0.001.\n",
      "21/21 [==============================] - 51s 3s/step - loss: 0.7475 - categorical_accuracy: 0.6682 - val_loss: 1.9708 - val_categorical_accuracy: 0.1484 - lr: 0.0020\n",
      "Epoch 14/25\n",
      "21/21 [==============================] - ETA: 0s - loss: 0.7140 - categorical_accuracy: 0.6801\n",
      "Epoch 00014: saving model to model_init_2024-11-0503_40_18.603889/model-   14-0.71401-0.68006-1.79708-0.19531.h5\n",
      "21/21 [==============================] - 50s 3s/step - loss: 0.7140 - categorical_accuracy: 0.6801 - val_loss: 1.7971 - val_categorical_accuracy: 0.1953 - lr: 0.0010\n",
      "Epoch 15/25\n",
      "21/21 [==============================] - ETA: 0s - loss: 0.6926 - categorical_accuracy: 0.6890\n",
      "Epoch 00015: saving model to model_init_2024-11-0503_40_18.603889/model-   15-0.69263-0.68899-1.75302-0.15625.h5\n",
      "21/21 [==============================] - 51s 3s/step - loss: 0.6926 - categorical_accuracy: 0.6890 - val_loss: 1.7530 - val_categorical_accuracy: 0.1562 - lr: 0.0010\n",
      "Epoch 16/25\n",
      "21/21 [==============================] - ETA: 0s - loss: 0.7142 - categorical_accuracy: 0.6696\n",
      "Epoch 00016: saving model to model_init_2024-11-0503_40_18.603889/model-   16-0.71416-0.66964-1.59315-0.20312.h5\n",
      "21/21 [==============================] - 49s 2s/step - loss: 0.7142 - categorical_accuracy: 0.6696 - val_loss: 1.5932 - val_categorical_accuracy: 0.2031 - lr: 0.0010\n",
      "Epoch 17/25\n",
      "21/21 [==============================] - ETA: 0s - loss: 0.7004 - categorical_accuracy: 0.6711\n",
      "Epoch 00017: saving model to model_init_2024-11-0503_40_18.603889/model-   17-0.70041-0.67113-1.68345-0.19531.h5\n",
      "21/21 [==============================] - 51s 3s/step - loss: 0.7004 - categorical_accuracy: 0.6711 - val_loss: 1.6835 - val_categorical_accuracy: 0.1953 - lr: 0.0010\n",
      "Epoch 18/25\n",
      "21/21 [==============================] - ETA: 0s - loss: 0.7062 - categorical_accuracy: 0.6949\n",
      "Epoch 00018: saving model to model_init_2024-11-0503_40_18.603889/model-   18-0.70615-0.69494-1.54863-0.21875.h5\n",
      "21/21 [==============================] - 51s 3s/step - loss: 0.7062 - categorical_accuracy: 0.6949 - val_loss: 1.5486 - val_categorical_accuracy: 0.2188 - lr: 0.0010\n",
      "Epoch 19/25\n",
      "21/21 [==============================] - ETA: 0s - loss: 0.6934 - categorical_accuracy: 0.6696\n",
      "Epoch 00019: saving model to model_init_2024-11-0503_40_18.603889/model-   19-0.69335-0.66964-1.41764-0.51562.h5\n",
      "21/21 [==============================] - 50s 3s/step - loss: 0.6934 - categorical_accuracy: 0.6696 - val_loss: 1.4176 - val_categorical_accuracy: 0.5156 - lr: 0.0010\n",
      "Epoch 20/25\n",
      "21/21 [==============================] - ETA: 0s - loss: 0.7191 - categorical_accuracy: 0.6935\n",
      "Epoch 00020: saving model to model_init_2024-11-0503_40_18.603889/model-   20-0.71910-0.69345-1.26488-0.57031.h5\n",
      "21/21 [==============================] - 49s 2s/step - loss: 0.7191 - categorical_accuracy: 0.6935 - val_loss: 1.2649 - val_categorical_accuracy: 0.5703 - lr: 0.0010\n",
      "Epoch 21/25\n",
      "21/21 [==============================] - ETA: 0s - loss: 0.6825 - categorical_accuracy: 0.6845\n",
      "Epoch 00021: saving model to model_init_2024-11-0503_40_18.603889/model-   21-0.68249-0.68452-0.96165-0.64062.h5\n",
      "21/21 [==============================] - 51s 3s/step - loss: 0.6825 - categorical_accuracy: 0.6845 - val_loss: 0.9616 - val_categorical_accuracy: 0.6406 - lr: 0.0010\n",
      "Epoch 22/25\n",
      "21/21 [==============================] - ETA: 0s - loss: 0.7341 - categorical_accuracy: 0.6920\n",
      "Epoch 00022: saving model to model_init_2024-11-0503_40_18.603889/model-   22-0.73413-0.69196-1.10188-0.59375.h5\n",
      "21/21 [==============================] - 51s 3s/step - loss: 0.7341 - categorical_accuracy: 0.6920 - val_loss: 1.1019 - val_categorical_accuracy: 0.5938 - lr: 0.0010\n",
      "Epoch 23/25\n",
      "21/21 [==============================] - ETA: 0s - loss: 0.7493 - categorical_accuracy: 0.6533\n",
      "Epoch 00023: saving model to model_init_2024-11-0503_40_18.603889/model-   23-0.74930-0.65327-2.39667-0.40625.h5\n",
      "21/21 [==============================] - 50s 2s/step - loss: 0.7493 - categorical_accuracy: 0.6533 - val_loss: 2.3967 - val_categorical_accuracy: 0.4062 - lr: 0.0010\n",
      "Epoch 24/25\n",
      "21/21 [==============================] - ETA: 0s - loss: 0.7447 - categorical_accuracy: 0.6830\n",
      "Epoch 00024: saving model to model_init_2024-11-0503_40_18.603889/model-   24-0.74469-0.68304-1.49081-0.46875.h5\n",
      "21/21 [==============================] - 49s 2s/step - loss: 0.7447 - categorical_accuracy: 0.6830 - val_loss: 1.4908 - val_categorical_accuracy: 0.4688 - lr: 0.0010\n",
      "Epoch 25/25\n",
      "21/21 [==============================] - ETA: 0s - loss: 0.7028 - categorical_accuracy: 0.6875\n",
      "Epoch 00025: saving model to model_init_2024-11-0503_40_18.603889/model-   25-0.70282-0.68750-0.93784-0.60156.h5\n",
      "21/21 [==============================] - 51s 3s/step - loss: 0.7028 - categorical_accuracy: 0.6875 - val_loss: 0.9378 - val_categorical_accuracy: 0.6016 - lr: 0.0010\n"
     ]
    }
   ],
   "source": [
    "history = model5.fit(train_generator, steps_per_epoch=steps_per_epoch, epochs=num_epochs, verbose=1, \n",
    "                    callbacks=callbacks_list, validation_data=val_generator, \n",
    "                    validation_steps=validation_steps, class_weight=None, workers=1, initial_epoch=0)"
   ]
  },
  {
   "cell_type": "code",
   "execution_count": 42,
   "metadata": {},
   "outputs": [
    {
     "data": {
      "text/plain": [
       "<matplotlib.legend.Legend at 0x7f1eca728880>"
      ]
     },
     "execution_count": 42,
     "metadata": {},
     "output_type": "execute_result"
    },
    {
     "data": {
      "image/png": "[encoded data removed]",
      "text/plain": [
       "<Figure size 1440x432 with 2 Axes>"
      ]
     },
     "metadata": {
      "needs_background": "light"
     },
     "output_type": "display_data"
    }
   ],
   "source": [
    "plt.figure(figsize=(20,6))\n",
    "ax1 = plt.subplot(121)\n",
    "ax1 = plt.plot(history.history['loss'])\n",
    "ax1 = plt.plot(history.history['val_loss'])\n",
    "plt.title('model loss')\n",
    "plt.ylabel('loss')\n",
    "plt.xlabel('epoch')\n",
    "plt.legend(['train', 'validation'], loc='lower left')\n",
    "ax2 = plt.subplot(122)\n",
    "ax2 = plt.plot(history.history['categorical_accuracy'])\n",
    "ax2 = plt.plot(history.history['val_categorical_accuracy'])\n",
    "plt.title('model accuracy')\n",
    "plt.ylabel('categorical_accuracy')\n",
    "plt.xlabel('epoch')\n",
    "plt.legend(['train', 'validation'], loc='lower left')"
   ]
  }
 ],
 "metadata": {
  "kernelspec": {
   "display_name": "Python 3 (ipykernel)",
   "language": "python",
   "name": "python3"
  },
  "language_info": {
   "codemirror_mode": {
    "name": "ipython",
    "version": 3
   },
   "file_extension": ".py",
   "mimetype": "text/x-python",
   "name": "python",
   "nbconvert_exporter": "python",
   "pygments_lexer": "ipython3",
   "version": "3.8.10"
  }
 },
 "nbformat": 4,
 "nbformat_minor": 4
}
